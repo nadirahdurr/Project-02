{
 "cells": [
  {
   "cell_type": "code",
   "execution_count": 1,
   "id": "0bea4e7c-b02b-47d2-b0ac-e2412594333c",
   "metadata": {},
   "outputs": [],
   "source": [
    "import pandas as pd\n",
    "from pymongo import MongoClient\n",
    "from pprint import pprint\n",
    "from dotenv import load_dotenv\n",
    "from binance.client import Client\n",
    "from binance import AsyncClient\n",
    "import glob\n",
    "import os\n",
    "from pathlib import Path\n",
    "import asyncio"
   ]
  },
  {
   "cell_type": "code",
   "execution_count": 2,
   "id": "8bfa53bd-b571-4917-850d-fca32b578c2d",
   "metadata": {},
   "outputs": [],
   "source": [
    "# Load Environment Variables\n",
    "load_dotenv()\n",
    "\n",
    "# Gets MongoDB Connection String\n",
    "MDB_CONNECTION_STRING = os.getenv('MDB_CONNECTION_STRING')\n",
    "\n",
    "# Gets Binance Api Key and Api Secret\n",
    "BINANCE_API_KEY = os.getenv('BINANCE_API_KEY')\n",
    "BINANCE_API_SECRET = os.getenv('BINANCE_API_SECRET')"
   ]
  },
  {
   "cell_type": "code",
   "execution_count": 3,
   "id": "6df704b5-f0d2-4e68-a65a-bf13d6c2457c",
   "metadata": {},
   "outputs": [],
   "source": [
    "# Function to connect to the Mongo DB\n",
    "def get_database():\n",
    "    try:\n",
    "        client = MongoClient(MDB_CONNECTION_STRING)\n",
    "        db = client[\"project-02\"]\n",
    "        return db\n",
    "    except Exception as e:\n",
    "        print(e)"
   ]
  },
  {
   "cell_type": "code",
   "execution_count": 4,
   "id": "bc76f891-50ae-42b0-9565-4f86319990ee",
   "metadata": {},
   "outputs": [],
   "source": [
    "# Connect to the db\n",
    "db = get_database()"
   ]
  },
  {
   "cell_type": "code",
   "execution_count": 5,
   "id": "61f14ce7-2808-48f4-9fc9-742a9facf663",
   "metadata": {},
   "outputs": [
    {
     "name": "stdout",
     "output_type": "stream",
     "text": [
      "5.0.6\n"
     ]
    }
   ],
   "source": [
    "# Test Connection\n",
    "serverStatusResult=db.command(\"serverStatus\")\n",
    "print(serverStatusResult[\"version\"])"
   ]
  },
  {
   "cell_type": "code",
   "execution_count": 6,
   "id": "2986f1b8-6a9e-4ecc-adaf-e4cc7c804365",
   "metadata": {},
   "outputs": [],
   "source": [
    "# Gets the coinpairs to process from the database\n",
    "def get_coinpairs():\n",
    "    # Get the coinpairs from the Database\n",
    "    db_coinpairs = db[\"coinpairs\"].find({\"exchange\" : \"binance\"})\n",
    "\n",
    "    # convert the dictionary objects to dataframe\n",
    "    binance_coinpairs_df = pd.DataFrame(db_coinpairs)\n",
    "\n",
    "    # see the magic\n",
    "    coinpair_list = list(binance_coinpairs_df['pair'])\n",
    "    return coinpair_list\n",
    "coinpair_list = get_coinpairs()"
   ]
  },
  {
   "cell_type": "code",
   "execution_count": 7,
   "id": "fb78e2e2-1cba-4296-8405-2e06506f26b7",
   "metadata": {},
   "outputs": [
    {
     "name": "stdout",
     "output_type": "stream",
     "text": [
      "['1m', '5m', '30m', '1h', '1d']\n"
     ]
    }
   ],
   "source": [
    "# Function to get the timeframes stored in the database\n",
    "def get_binance_timeframes_list(db):\n",
    "    # Get the timeframes from the Database\n",
    "    db_binance_timeframes = db[\"binance_timeframes\"].find()\n",
    "\n",
    "    # Convert the dictionary objects to dataframe\n",
    "    binance_timeframes_df = pd.DataFrame(db_binance_timeframes)\n",
    "\n",
    "    # Return the timeframes from the db\n",
    "    return list(binance_timeframes_df['timeframe'])\n",
    "\n",
    "binance_timeframes_list = get_binance_timeframes_list(db)\n",
    "print(binance_timeframes_list)"
   ]
  },
  {
   "cell_type": "code",
   "execution_count": 8,
   "id": "ff6141b9-40f5-4fe6-98f7-d78f2e5c9389",
   "metadata": {},
   "outputs": [],
   "source": [
    "# Get latest inserted kline date for each Coin Pair\n",
    "def get_pair_data(binance_timeframes_list, coinpair_list):\n",
    "    complete_pair_tf = []\n",
    "    from_timestamp = \"3 months ago UTC\"\n",
    "    for timeframe in binance_timeframes_list:\n",
    "        for pair in coinpair_list:\n",
    "            # Get the coinpairs from the Database\n",
    "            collection_name = pair+\"_\"+timeframe\n",
    "            latest = db[collection_name].find().sort('open_time', -1 ).limit(1)\n",
    "            # Exists, update collection by setting from_timestamp to lastest timestamp\n",
    "            if collection_name in db.list_collection_names():\n",
    "                complete_pair_tf.append([timeframe, pair, latest[0][\"open_time\"].strftime(\"%m/%d/%Y, %H:%M:%S\"),collection_name, \"is_update\"])\n",
    "            # Does not exists, import from csv\n",
    "            else:\n",
    "                complete_pair_tf.append([timeframe, pair, from_timestamp, collection_name, \"is_new\"])\n",
    "    return complete_pair_tf"
   ]
  },
  {
   "cell_type": "code",
   "execution_count": 9,
   "id": "e06445f9-059d-4e6d-a94c-6423d8e18f9b",
   "metadata": {},
   "outputs": [],
   "source": [
    "# Function to get the kline data from Binance\n",
    "async def get_coinpair_kline(pair, timeframe, from_timestamp):\n",
    "    client = await AsyncClient.create(BINANCE_API_KEY, BINANCE_API_SECRET)\n",
    "    if timeframe == \"1m\":\n",
    "        klines = await client.get_historical_klines(pair, Client.KLINE_INTERVAL_1MINUTE, from_timestamp)\n",
    "    elif timeframe == \"5m\":\n",
    "        klines = await client.get_historical_klines(pair, Client.KLINE_INTERVAL_5MINUTE, from_timestamp)\n",
    "    elif timeframe == \"30m\":\n",
    "        klines = await client.get_historical_klines(pair, Client.KLINE_INTERVAL_30MINUTE, from_timestamp)\n",
    "    elif timeframe == \"1h\":\n",
    "        klines = await client.get_historical_klines(pair, Client.KLINE_INTERVAL_1HOUR, from_timestamp)\n",
    "    elif timeframe == \"1d\":\n",
    "        klines = await client.get_historical_klines(pair, Client.KLINE_INTERVAL_1DAY, from_timestamp)\n",
    "    else:\n",
    "        return\n",
    "    await client.close_connection()\n",
    "    return klines"
   ]
  },
  {
   "cell_type": "code",
   "execution_count": 10,
   "id": "39a908ef-7ea2-47c4-ab67-a51ecf19592e",
   "metadata": {},
   "outputs": [],
   "source": [
    "async def get_binance_data(complete_pair_tf):\n",
    "    headers=[\"open_time\", \"open\", \"high\", \"low\",\"close\",\"volume\",\"close_time\",\"quote_asset_volume\",\"numer_trades\",\"taker_base_volume\",\"taker_quote_volume\",\"ignore\"]\n",
    "    for query_pair in complete_pair_tf:\n",
    "        collection_name = query_pair[1]+\"_\"+query_pair[0]\n",
    "        print(f\"Processing {collection_name}..\")\n",
    "        kline_list = await get_coinpair_kline(query_pair[1], query_pair[0], query_pair[2])\n",
    "        # If it is updating the db then delete the first item as it repeats\n",
    "        if query_pair[4] == \"is_update\":\n",
    "            kline_list.pop(0)\n",
    "            print(f\"Updating {len(kline_list)} items..\")\n",
    "        else:\n",
    "            print(f\"Adding {len(kline_list)} items..\")\n",
    "        if len(kline_list) > 0:\n",
    "            kline_df = pd.DataFrame(kline_list, columns=headers)\n",
    "            kline_df['open_time'] = kline_df['open_time'].values.astype(dtype='datetime64[ms]')\n",
    "            kline_df['close_time'] = kline_df['close_time'].values.astype(dtype='datetime64[ms]')\n",
    "            kline_df[[\"open\", \"high\", \"low\",\"close\",\"volume\",\"quote_asset_volume\",\"taker_base_volume\",\"taker_quote_volume\"]] = kline_df[[\"open\", \"high\", \"low\",\"close\",\"volume\",\"quote_asset_volume\",\"taker_base_volume\",\"taker_quote_volume\"]].astype(float)\n",
    "            kline_df = kline_df.drop(columns=['ignore'])\n",
    "            kline_dict = kline_df.to_dict(\"records\")\n",
    "            #print(kline_dict[0])\n",
    "            db[query_pair[3]].insert_many(kline_dict)\n",
    "        print(f\"Done :)\")\n"
   ]
  },
  {
   "cell_type": "code",
   "execution_count": 11,
   "id": "b8631e83-41be-4461-bbba-468db86674eb",
   "metadata": {},
   "outputs": [],
   "source": [
    "# Get pair info to update DB\n",
    "complete_pair_tf = get_pair_data(binance_timeframes_list, coinpair_list)\n",
    "# print(complete_pair_tf)"
   ]
  },
  {
   "cell_type": "code",
   "execution_count": 12,
   "id": "0ebb8ee7-59a3-432e-b8ee-3f80da6a5c81",
   "metadata": {},
   "outputs": [
    {
     "name": "stdout",
     "output_type": "stream",
     "text": [
      "Processing ADABUSD_1m..\n",
      "Updating 1801 items..\n",
      "Done :)\n",
      "Processing SOLBUSD_1m..\n",
      "Updating 1801 items..\n",
      "Done :)\n",
      "Processing BTCBUSD_1m..\n",
      "Updating 1800 items..\n",
      "Done :)\n",
      "Processing ETHBUSD_1m..\n",
      "Updating 1800 items..\n",
      "Done :)\n",
      "Processing LUNABUSD_1m..\n",
      "Updating 1800 items..\n",
      "Done :)\n",
      "Processing DOGEBUSD_1m..\n",
      "Updating 1800 items..\n",
      "Done :)\n",
      "Processing MATICBUSD_1m..\n",
      "Updating 1799 items..\n",
      "Done :)\n",
      "Processing MANABUSD_1m..\n",
      "Updating 1799 items..\n",
      "Done :)\n",
      "Processing ADABUSD_5m..\n",
      "Updating 360 items..\n",
      "Done :)\n",
      "Processing SOLBUSD_5m..\n",
      "Updating 360 items..\n",
      "Done :)\n",
      "Processing BTCBUSD_5m..\n",
      "Updating 360 items..\n",
      "Done :)\n",
      "Processing ETHBUSD_5m..\n",
      "Updating 360 items..\n",
      "Done :)\n",
      "Processing LUNABUSD_5m..\n",
      "Updating 360 items..\n",
      "Done :)\n",
      "Processing DOGEBUSD_5m..\n",
      "Updating 360 items..\n",
      "Done :)\n",
      "Processing MATICBUSD_5m..\n",
      "Updating 360 items..\n",
      "Done :)\n",
      "Processing MANABUSD_5m..\n",
      "Updating 360 items..\n",
      "Done :)\n",
      "Processing ADABUSD_30m..\n",
      "Updating 60 items..\n",
      "Done :)\n",
      "Processing SOLBUSD_30m..\n",
      "Updating 60 items..\n",
      "Done :)\n",
      "Processing BTCBUSD_30m..\n",
      "Updating 60 items..\n",
      "Done :)\n",
      "Processing ETHBUSD_30m..\n",
      "Updating 60 items..\n",
      "Done :)\n",
      "Processing LUNABUSD_30m..\n",
      "Updating 60 items..\n",
      "Done :)\n",
      "Processing DOGEBUSD_30m..\n",
      "Updating 60 items..\n",
      "Done :)\n",
      "Processing MATICBUSD_30m..\n",
      "Updating 60 items..\n",
      "Done :)\n",
      "Processing MANABUSD_30m..\n",
      "Updating 60 items..\n",
      "Done :)\n",
      "Processing ADABUSD_1h..\n",
      "Updating 30 items..\n",
      "Done :)\n",
      "Processing SOLBUSD_1h..\n",
      "Updating 30 items..\n",
      "Done :)\n",
      "Processing BTCBUSD_1h..\n",
      "Updating 30 items..\n",
      "Done :)\n",
      "Processing ETHBUSD_1h..\n",
      "Updating 30 items..\n",
      "Done :)\n",
      "Processing LUNABUSD_1h..\n",
      "Updating 30 items..\n",
      "Done :)\n",
      "Processing DOGEBUSD_1h..\n",
      "Updating 30 items..\n",
      "Done :)\n",
      "Processing MATICBUSD_1h..\n",
      "Updating 30 items..\n",
      "Done :)\n",
      "Processing MANABUSD_1h..\n",
      "Updating 30 items..\n",
      "Done :)\n",
      "Processing ADABUSD_1d..\n",
      "Updating 1 items..\n",
      "Done :)\n",
      "Processing SOLBUSD_1d..\n",
      "Updating 1 items..\n",
      "Done :)\n",
      "Processing BTCBUSD_1d..\n",
      "Updating 1 items..\n",
      "Done :)\n",
      "Processing ETHBUSD_1d..\n",
      "Updating 1 items..\n",
      "Done :)\n",
      "Processing LUNABUSD_1d..\n",
      "Updating 1 items..\n",
      "Done :)\n",
      "Processing DOGEBUSD_1d..\n",
      "Updating 1 items..\n",
      "Done :)\n",
      "Processing MATICBUSD_1d..\n",
      "Updating 1 items..\n",
      "Done :)\n",
      "Processing MANABUSD_1d..\n",
      "Updating 1 items..\n",
      "Done :)\n"
     ]
    }
   ],
   "source": [
    "# Update DB with the latest binance Data\n",
    "await get_binance_data(complete_pair_tf)"
   ]
  },
  {
   "cell_type": "code",
   "execution_count": 13,
   "id": "31d0dcef-a363-4cd7-8be0-458d60025e43",
   "metadata": {},
   "outputs": [
    {
     "data": {
      "text/plain": [
       "['ADABUSD',\n",
       " 'SOLBUSD',\n",
       " 'BTCBUSD',\n",
       " 'ETHBUSD',\n",
       " 'LUNABUSD',\n",
       " 'DOGEBUSD',\n",
       " 'MATICBUSD',\n",
       " 'MANABUSD']"
      ]
     },
     "execution_count": 13,
     "metadata": {},
     "output_type": "execute_result"
    }
   ],
   "source": [
    "coinpair_list"
   ]
  },
  {
   "cell_type": "code",
   "execution_count": null,
   "id": "98f95cbf-dea4-4f98-9a33-6bd40aa60c0b",
   "metadata": {},
   "outputs": [],
   "source": []
  },
  {
   "cell_type": "code",
   "execution_count": null,
   "id": "3c14166d-22da-4695-8e1a-8355af069c98",
   "metadata": {},
   "outputs": [],
   "source": []
  },
  {
   "cell_type": "code",
   "execution_count": 14,
   "id": "b55bca0e-bc3c-4003-a073-ef9dda9cc4e9",
   "metadata": {},
   "outputs": [],
   "source": [
    "# Gets the coinpairs to process from the database\n",
    "def get_keywords(coinpair):\n",
    "    # Get the coinpairs from the Database\n",
    "    db_coinpairs = db[\"coinpairs\"].find({\"pair\": coinpair, \"exchange\" : \"binance\"})\n",
    "\n",
    "    # convert the dictionary objects to dataframe\n",
    "    binance_coinpairs_df = pd.DataFrame(db_coinpairs)\n",
    "\n",
    "    # see the magic\n",
    "    coinpair_list = list(binance_coinpairs_df['keywords'][0])\n",
    "    \n",
    "    return coinpair_list\n",
    "\n",
    "# Gets the main coin name to process from the database\n",
    "def get_main_coin(coinpair):\n",
    "    # Get the coin name from the Database\n",
    "    db_coinpairs = db[\"coinpairs\"].find({\"pair\": coinpair, \"exchange\" : \"binance\"})\n",
    "\n",
    "    # convert the dictionary objects to dataframe\n",
    "    binance_coinpairs_df = pd.DataFrame(db_coinpairs)\n",
    "\n",
    "    # see the magic\n",
    "    coinpair_list = binance_coinpairs_df['main'][0]\n",
    "    \n",
    "    return coinpair_list\n",
    "\n",
    "# Gets the coinpairs to process from the database\n",
    "def get_coinpairs():\n",
    "    # Get the coinpairs from the Database\n",
    "    db_coinpairs = db[\"coinpairs\"].find({\"exchange\" : \"binance\"})\n",
    "\n",
    "    # convert the dictionary objects to dataframe\n",
    "    binance_coinpairs_df = pd.DataFrame(db_coinpairs)\n",
    "\n",
    "    # see the magic\n",
    "    coinpair_list = list(binance_coinpairs_df['pair'])\n",
    "    return coinpair_list\n",
    "\n",
    "# Save trends to Database\n",
    "def update_trends_db(coin_name, trends_df):\n",
    "    # Resets the index\n",
    "    trends_df = trends_df.reset_index()\n",
    "    \n",
    "    # Update the coinpairs in the Database\n",
    "    db[\"trends_\"+coin_name].insert_many(trends_df.to_dict(\"records\"))\n",
    "    db[\"trends_\"+coin_name].create_index([ (\"date\", -1) ])\n",
    "    \n",
    "    # Returns the coin pair\n",
    "    return coinpair\n",
    "\n",
    "# TODO REWRITE TO GET DATa FOR UPDATE\n",
    "# Function to initialize the databse with the coinpairs registered\n",
    "def update_google_trends(db, coinpairs):\n",
    "    for coinpair in coinpairs:\n",
    "        coin_name = get_main_coin(coinpair)\n",
    "        collection_name=\"trends_\"+coin_name\n",
    "        if collection_name not in db.list_collection_names():  \n",
    "            print(f\"Pulling trends for {coin_name}\")\n",
    "            keywords = get_keywords(coinpair)\n",
    "            populate_google_trends(coinpair, keywords, coin_name)\n",
    "        else:\n",
    "            print(f\"Collection {collection_name} found, skipping..\")\n",
    "            \n",
    "    print(f\"Done pulling trends.\")"
   ]
  },
  {
   "cell_type": "code",
   "execution_count": 15,
   "id": "e285a9eb-3d9f-41a8-a036-2f209cf14fad",
   "metadata": {},
   "outputs": [],
   "source": [
    "#def update_google_trends():\n",
    "#    print(\"yeah\")\n"
   ]
  },
  {
   "cell_type": "code",
   "execution_count": 16,
   "id": "a7e99f3a-7620-454d-ae04-26297f3e7585",
   "metadata": {},
   "outputs": [],
   "source": [
    "#update_google_trends()"
   ]
  }
 ],
 "metadata": {
  "kernelspec": {
   "display_name": "Python 3 (ipykernel)",
   "language": "python",
   "name": "python3"
  },
  "language_info": {
   "codemirror_mode": {
    "name": "ipython",
    "version": 3
   },
   "file_extension": ".py",
   "mimetype": "text/x-python",
   "name": "python",
   "nbconvert_exporter": "python",
   "pygments_lexer": "ipython3",
   "version": "3.7.13"
  }
 },
 "nbformat": 4,
 "nbformat_minor": 5
}
