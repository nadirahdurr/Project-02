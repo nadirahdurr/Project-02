{
 "cells": [
  {
   "cell_type": "code",
   "execution_count": 1,
   "id": "0bea4e7c-b02b-47d2-b0ac-e2412594333c",
   "metadata": {},
   "outputs": [],
   "source": [
    "import pandas as pd\n",
    "from pymongo import MongoClient\n",
    "from pprint import pprint\n",
    "from dotenv import load_dotenv\n",
    "from binance.client import Client\n",
    "from binance import AsyncClient\n",
    "import glob\n",
    "import os\n",
    "from pathlib import Path\n",
    "import asyncio"
   ]
  },
  {
   "cell_type": "code",
   "execution_count": 2,
   "id": "8bfa53bd-b571-4917-850d-fca32b578c2d",
   "metadata": {},
   "outputs": [],
   "source": [
    "# Load Environment Variables\n",
    "load_dotenv()\n",
    "\n",
    "# Gets MongoDB Connection String\n",
    "MDB_CONNECTION_STRING = os.getenv('MDB_CONNECTION_STRING')\n",
    "\n",
    "# Gets Binance Api Key and Api Secret\n",
    "BINANCE_API_KEY = os.getenv('BINANCE_API_KEY')\n",
    "BINANCE_API_SECRET = os.getenv('BINANCE_API_SECRET')"
   ]
  },
  {
   "cell_type": "code",
   "execution_count": 3,
   "id": "6df704b5-f0d2-4e68-a65a-bf13d6c2457c",
   "metadata": {},
   "outputs": [],
   "source": [
    "# Function to connect to the Mongo DB\n",
    "def get_database():\n",
    "    try:\n",
    "        client = MongoClient(MDB_CONNECTION_STRING)\n",
    "        db = client[\"project-02\"]\n",
    "        return db\n",
    "    except Exception as e:\n",
    "        print(e)"
   ]
  },
  {
   "cell_type": "code",
   "execution_count": 4,
   "id": "bc76f891-50ae-42b0-9565-4f86319990ee",
   "metadata": {},
   "outputs": [],
   "source": [
    "# Connect to the db\n",
    "db = get_database()"
   ]
  },
  {
   "cell_type": "code",
   "execution_count": 5,
   "id": "61f14ce7-2808-48f4-9fc9-742a9facf663",
   "metadata": {},
   "outputs": [
    {
     "name": "stdout",
     "output_type": "stream",
     "text": [
      "5.0.6\n"
     ]
    }
   ],
   "source": [
    "# Test Connection\n",
    "serverStatusResult=db.command(\"serverStatus\")\n",
    "print(serverStatusResult[\"version\"])"
   ]
  },
  {
   "cell_type": "code",
   "execution_count": 6,
   "id": "2986f1b8-6a9e-4ecc-adaf-e4cc7c804365",
   "metadata": {},
   "outputs": [
    {
     "name": "stdout",
     "output_type": "stream",
     "text": [
      "['ADABUSD', 'SOLBUSD', 'ETHBUSD', 'BTCBUSD']\n"
     ]
    }
   ],
   "source": [
    "# Get the coinpairs from the Database\n",
    "db_coinpairs = db[\"coinpairs\"].find({\"exchange\" : \"binance\"})\n",
    "\n",
    "# convert the dictionary objects to dataframe\n",
    "binance_coinpairs_df = pd.DataFrame(db_coinpairs)\n",
    "\n",
    "# see the magic\n",
    "coinpair_list = list(binance_coinpairs_df['pair'])\n",
    "print(coinpair_list)"
   ]
  },
  {
   "cell_type": "code",
   "execution_count": 7,
   "id": "fb78e2e2-1cba-4296-8405-2e06506f26b7",
   "metadata": {},
   "outputs": [
    {
     "name": "stdout",
     "output_type": "stream",
     "text": [
      "['1m', '5m', '30m', '1h', '1d']\n"
     ]
    }
   ],
   "source": [
    "# Get the timeframes from the Database\n",
    "db_binance_timeframes = db[\"binance_timeframes\"].find()\n",
    "\n",
    "# convert the dictionary objects to dataframe\n",
    "binance_timeframes_df = pd.DataFrame(db_binance_timeframes)\n",
    "\n",
    "# see the magic\n",
    "binance_timeframes_list = list(binance_timeframes_df['timeframe'])\n",
    "print(binance_timeframes_list)"
   ]
  },
  {
   "cell_type": "code",
   "execution_count": 8,
   "id": "ff6141b9-40f5-4fe6-98f7-d78f2e5c9389",
   "metadata": {},
   "outputs": [],
   "source": [
    "# Get latest inserted kline date for each Coin Pair\n",
    "def get_pair_data(binance_timeframes_list, coinpair_list):\n",
    "    complete_pair_tf = []\n",
    "    from_timestamp = \"3 months ago UTC\"\n",
    "    for timeframe in binance_timeframes_list:\n",
    "        for pair in coinpair_list:\n",
    "            # Get the coinpairs from the Database\n",
    "            collection_name = pair+\"_\"+timeframe\n",
    "            latest = db[collection_name].find().sort('open_time', -1 ).limit(1)\n",
    "            # Exists, update collection by setting from_timestamp to lastest timestamp\n",
    "            if collection_name in db.list_collection_names():\n",
    "                complete_pair_tf.append([timeframe, pair, latest[0][\"open_time\"].strftime(\"%m/%d/%Y, %H:%M:%S\"),collection_name, \"is_update\"])\n",
    "            # Does not exists, import from csv\n",
    "            else:\n",
    "                complete_pair_tf.append([timeframe, pair, from_timestamp, collection_name, \"is_new\"])\n",
    "    return complete_pair_tf"
   ]
  },
  {
   "cell_type": "code",
   "execution_count": 9,
   "id": "e06445f9-059d-4e6d-a94c-6423d8e18f9b",
   "metadata": {},
   "outputs": [],
   "source": [
    "# Function to get the kline data from Binance\n",
    "async def get_coinpair_kline(pair, timeframe, from_timestamp):\n",
    "    client = await AsyncClient.create(BINANCE_API_KEY, BINANCE_API_SECRET)\n",
    "    if timeframe == \"1m\":\n",
    "        klines = await client.get_historical_klines(pair, Client.KLINE_INTERVAL_1MINUTE, from_timestamp)\n",
    "    elif timeframe == \"5m\":\n",
    "        klines = await client.get_historical_klines(pair, Client.KLINE_INTERVAL_5MINUTE, from_timestamp)\n",
    "    elif timeframe == \"30m\":\n",
    "        klines = await client.get_historical_klines(pair, Client.KLINE_INTERVAL_30MINUTE, from_timestamp)\n",
    "    elif timeframe == \"1h\":\n",
    "        klines = await client.get_historical_klines(pair, Client.KLINE_INTERVAL_1HOUR, from_timestamp)\n",
    "    elif timeframe == \"1d\":\n",
    "        klines = await client.get_historical_klines(pair, Client.KLINE_INTERVAL_1DAY, from_timestamp)\n",
    "    else:\n",
    "        return\n",
    "    await client.close_connection()\n",
    "    return klines"
   ]
  },
  {
   "cell_type": "code",
   "execution_count": 10,
   "id": "39a908ef-7ea2-47c4-ab67-a51ecf19592e",
   "metadata": {},
   "outputs": [],
   "source": [
    "async def get_binance_data(complete_pair_tf):\n",
    "    headers=[\"open_time\", \"open\", \"high\", \"low\",\"close\",\"volume\",\"close_time\",\"quote_asset_volume\",\"numer_trades\",\"taker_base_volume\",\"taker_quote_volume\",\"ignore\"]\n",
    "    for query_pair in complete_pair_tf:\n",
    "        collection_name = query_pair[1]+\"_\"+query_pair[0]\n",
    "        print(f\"Processing {collection_name}..\")\n",
    "        kline_list = await get_coinpair_kline(query_pair[1], query_pair[0], query_pair[2])\n",
    "        # If it is updating the db then delete the first item as it repeats\n",
    "        if query_pair[4] == \"is_update\":\n",
    "            kline_list.pop(0)\n",
    "            print(f\"Updating {len(kline_list)} items..\")\n",
    "        else:\n",
    "            print(f\"Adding {len(kline_list)} items..\")\n",
    "        if len(kline_list) > 0:\n",
    "            kline_df = pd.DataFrame(kline_list, columns=headers)\n",
    "            kline_df['open_time'] = kline_df['open_time'].values.astype(dtype='datetime64[ms]')\n",
    "            kline_df['close_time'] = kline_df['close_time'].values.astype(dtype='datetime64[ms]')\n",
    "            kline_df[[\"open\", \"high\", \"low\",\"close\",\"volume\",\"quote_asset_volume\",\"taker_base_volume\",\"taker_quote_volume\"]] = kline_df[[\"open\", \"high\", \"low\",\"close\",\"volume\",\"quote_asset_volume\",\"taker_base_volume\",\"taker_quote_volume\"]].astype(float)\n",
    "            kline_df = kline_df.drop(columns=['ignore'])\n",
    "            kline_dict = kline_df.to_dict(\"records\")\n",
    "            #print(kline_dict[0])\n",
    "            db[query_pair[3]].insert_many(kline_dict)\n",
    "        print(f\"Done :)\")\n"
   ]
  },
  {
   "cell_type": "code",
   "execution_count": 11,
   "id": "b8631e83-41be-4461-bbba-468db86674eb",
   "metadata": {},
   "outputs": [
    {
     "name": "stdout",
     "output_type": "stream",
     "text": [
      "[['1m', 'ADABUSD', '04/04/2022, 18:07:00', 'ADABUSD_1m', 'is_update'], ['1m', 'SOLBUSD', '04/04/2022, 18:07:00', 'SOLBUSD_1m', 'is_update'], ['1m', 'ETHBUSD', '04/04/2022, 18:07:00', 'ETHBUSD_1m', 'is_update'], ['1m', 'BTCBUSD', '04/04/2022, 18:07:00', 'BTCBUSD_1m', 'is_update'], ['5m', 'ADABUSD', '04/04/2022, 18:05:00', 'ADABUSD_5m', 'is_update'], ['5m', 'SOLBUSD', '04/04/2022, 18:05:00', 'SOLBUSD_5m', 'is_update'], ['5m', 'ETHBUSD', '04/04/2022, 18:05:00', 'ETHBUSD_5m', 'is_update'], ['5m', 'BTCBUSD', '04/04/2022, 18:05:00', 'BTCBUSD_5m', 'is_update'], ['30m', 'ADABUSD', '04/04/2022, 18:00:00', 'ADABUSD_30m', 'is_update'], ['30m', 'SOLBUSD', '04/04/2022, 18:00:00', 'SOLBUSD_30m', 'is_update'], ['30m', 'ETHBUSD', '04/04/2022, 18:00:00', 'ETHBUSD_30m', 'is_update'], ['30m', 'BTCBUSD', '04/04/2022, 18:00:00', 'BTCBUSD_30m', 'is_update'], ['1h', 'ADABUSD', '04/04/2022, 18:00:00', 'ADABUSD_1h', 'is_update'], ['1h', 'SOLBUSD', '04/04/2022, 18:00:00', 'SOLBUSD_1h', 'is_update'], ['1h', 'ETHBUSD', '04/04/2022, 18:00:00', 'ETHBUSD_1h', 'is_update'], ['1h', 'BTCBUSD', '04/04/2022, 18:00:00', 'BTCBUSD_1h', 'is_update'], ['1d', 'ADABUSD', '04/04/2022, 00:00:00', 'ADABUSD_1d', 'is_update'], ['1d', 'SOLBUSD', '04/04/2022, 00:00:00', 'SOLBUSD_1d', 'is_update'], ['1d', 'ETHBUSD', '04/04/2022, 00:00:00', 'ETHBUSD_1d', 'is_update'], ['1d', 'BTCBUSD', '04/04/2022, 00:00:00', 'BTCBUSD_1d', 'is_update']]\n"
     ]
    }
   ],
   "source": [
    "# Get pair info to update DB\n",
    "complete_pair_tf = get_pair_data(binance_timeframes_list, coinpair_list)\n",
    "# print(complete_pair_tf)"
   ]
  },
  {
   "cell_type": "code",
   "execution_count": null,
   "id": "0ebb8ee7-59a3-432e-b8ee-3f80da6a5c81",
   "metadata": {},
   "outputs": [
    {
     "name": "stdout",
     "output_type": "stream",
     "text": [
      "Processing ADABUSD_1m..\n",
      "Updating 2 items\n",
      "Done :)\n",
      "Processing SOLBUSD_1m..\n",
      "Updating 2 items\n",
      "Done :)\n",
      "Processing ETHBUSD_1m..\n",
      "Updating 2 items\n",
      "Done :)\n",
      "Processing BTCBUSD_1m..\n",
      "Updating 2 items\n",
      "Done :)\n",
      "Processing ADABUSD_5m..\n",
      "Updating 0 items\n",
      "Done :)\n",
      "Processing SOLBUSD_5m..\n",
      "Updating 0 items\n",
      "Done :)\n",
      "Processing ETHBUSD_5m..\n",
      "Updating 0 items\n",
      "Done :)\n",
      "Processing BTCBUSD_5m..\n",
      "Updating 0 items\n",
      "Done :)\n",
      "Processing ADABUSD_30m..\n",
      "Updating 0 items\n",
      "Done :)\n",
      "Processing SOLBUSD_30m..\n",
      "Updating 0 items\n",
      "Done :)\n",
      "Processing ETHBUSD_30m..\n",
      "Updating 0 items\n",
      "Done :)\n",
      "Processing BTCBUSD_30m..\n",
      "Updating 0 items\n",
      "Done :)\n",
      "Processing ADABUSD_1h..\n",
      "Updating 0 items\n",
      "Done :)\n",
      "Processing SOLBUSD_1h..\n",
      "Updating 0 items\n",
      "Done :)\n",
      "Processing ETHBUSD_1h..\n",
      "Updating 0 items\n",
      "Done :)\n",
      "Processing BTCBUSD_1h..\n"
     ]
    }
   ],
   "source": [
    "# Update DB with the latest binance Data\n",
    "await get_binance_data(complete_pair_tf)"
   ]
  },
  {
   "cell_type": "code",
   "execution_count": null,
   "id": "31d0dcef-a363-4cd7-8be0-458d60025e43",
   "metadata": {},
   "outputs": [],
   "source": []
  },
  {
   "cell_type": "code",
   "execution_count": null,
   "id": "98f95cbf-dea4-4f98-9a33-6bd40aa60c0b",
   "metadata": {},
   "outputs": [],
   "source": []
  },
  {
   "cell_type": "code",
   "execution_count": null,
   "id": "3c14166d-22da-4695-8e1a-8355af069c98",
   "metadata": {},
   "outputs": [],
   "source": []
  }
 ],
 "metadata": {
  "kernelspec": {
   "display_name": "Python 3.7.11 64-bit ('dev': conda)",
   "language": "python",
   "name": "python3711jvsc74a57bd0031c6feeb2f4a45b81f49bc63f4349779b1ca77aa31178ffe6d389f35e50f837"
  },
  "language_info": {
   "codemirror_mode": {
    "name": "ipython",
    "version": 3
   },
   "file_extension": ".py",
   "mimetype": "text/x-python",
   "name": "python",
   "nbconvert_exporter": "python",
   "pygments_lexer": "ipython3",
   "version": "3.7.11"
  }
 },
 "nbformat": 4,
 "nbformat_minor": 5
}
