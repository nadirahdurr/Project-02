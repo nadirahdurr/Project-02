{
 "cells": [
  {
   "cell_type": "code",
   "execution_count": 1,
   "id": "d91df12a-77b7-4adf-95bd-7a1e2405aba9",
   "metadata": {},
   "outputs": [],
   "source": [
    "import os\n",
    "import glob\n",
    "import pandas as pd\n",
    "import requests\n",
    "import shutil\n",
    "from pymongo import MongoClient\n",
    "from pprint import pprint\n",
    "from dotenv import load_dotenv\n",
    "from pathlib import Path\n",
    "from zipfile import ZipFile\n",
    "from os.path import exists"
   ]
  },
  {
   "cell_type": "code",
   "execution_count": 2,
   "id": "f387c1e6-1de1-4e96-b530-b7a74eaf7653",
   "metadata": {},
   "outputs": [],
   "source": [
    "# Choose what to import\n",
    "coinpair_list = [\n",
    "    {'pair': 'ADABUSD', 'main': 'ADA', 'keywords': ['ADA','CARDANO']},\n",
    "    {'pair': 'SOLBUSD', 'main': 'SOL', 'keywords': ['SOL','SOLANA']},\n",
    "    {'pair': 'BTCBUSD', 'main': 'BTC', 'keywords': ['BTC','BITCOIN']},\n",
    "    {'pair': 'ETHBUSD', 'main': 'ETH', 'keywords': ['ETH','ETHEREUM']},\n",
    "    {'pair': 'LUNABUSD', 'main': 'LUNA', 'keywords': ['LUNA COIN','TERRA COIN']},\n",
    "    {'pair': 'DOGEBUSD', 'main': 'DOGE', 'keywords': ['DOGECOIN','DOGE']},\n",
    "    {'pair': 'MATICBUSD', 'main': 'MATIC', 'keywords': ['MATIC','POLYGON', 'POLYGON MATIC']},\n",
    "    {'pair': 'MANABUSD', 'main': 'MANA', 'keywords': ['DECENTRALAND']}\n",
    "]\n",
    "binance_timeframes_list = ['1m', '5m', '30m', '1h', '1d']"
   ]
  },
  {
   "cell_type": "code",
   "execution_count": 3,
   "id": "e43552d4-44d3-4333-aaaa-1fdcc64253c1",
   "metadata": {},
   "outputs": [
    {
     "name": "stdout",
     "output_type": "stream",
     "text": [
      "5.0.6\n"
     ]
    }
   ],
   "source": [
    "# Load Environment Variables\n",
    "load_dotenv()\n",
    "\n",
    "def connect_to_db():\n",
    "    # Gets MongoDB Connection String\n",
    "    MDB_CONNECTION_STRING = os.getenv('MDB_CONNECTION_STRING')\n",
    "\n",
    "    # Function to connect to the Mongo DB\n",
    "    def get_database():\n",
    "        try:\n",
    "            client = MongoClient(MDB_CONNECTION_STRING)\n",
    "            db = client[\"project-02\"]\n",
    "            return db\n",
    "        except Exception as e:\n",
    "            print(e)\n",
    "\n",
    "    # Connect to the db\n",
    "    db = get_database()\n",
    "\n",
    "    # Test Connection\n",
    "    serverStatusResult=db.command(\"serverStatus\")\n",
    "    print(serverStatusResult[\"version\"])\n",
    "    return db\n",
    "db = connect_to_db()"
   ]
  },
  {
   "cell_type": "code",
   "execution_count": 4,
   "id": "1ae211b5-2862-4987-b722-124f08639c25",
   "metadata": {},
   "outputs": [],
   "source": [
    "# Gets the coinpairs to process from the database\n",
    "def get_coinpairs():\n",
    "    # Get the coinpairs from the Database\n",
    "    db_coinpairs = db[\"coinpairs\"].find({\"exchange\" : \"binance\"})\n",
    "\n",
    "    # convert the dictionary objects to dataframe\n",
    "    binance_coinpairs_df = pd.DataFrame(db_coinpairs)\n",
    "\n",
    "    # see the magic\n",
    "    coinpair_list = list(binance_coinpairs_df['pair'])\n",
    "    return coinpair_list"
   ]
  },
  {
   "cell_type": "code",
   "execution_count": 5,
   "id": "a92f92ae-0eab-49b3-b2e2-02d87f6d15e8",
   "metadata": {},
   "outputs": [],
   "source": [
    "def update_coinpairs(coinpair_object):\n",
    "    coinpair_object[\"exchange\"] = \"binance\"\n",
    "    # Update the coinpairs in the Database\n",
    "    db[\"coinpairs\"].update_one({\"pair\" : coinpair_object['pair']},\n",
    "    {\"$setOnInsert\": coinpair_object},\n",
    "    upsert=True)\n",
    "\n",
    "    return coinpair\n",
    "\n",
    "def update_timeframes(timeframe):\n",
    "    # Update the timeframes in the Database\n",
    "    db[\"binance_timeframes\"].update_one({\"timeframe\" : timeframe},\n",
    "    {\"$setOnInsert\": {\"timeframe\": timeframe}},\n",
    "    upsert=True)\n",
    "\n",
    "    return timeframe"
   ]
  },
  {
   "cell_type": "code",
   "execution_count": 6,
   "id": "963c160f-be2c-4c86-a6ee-72c0816d45d2",
   "metadata": {},
   "outputs": [],
   "source": [
    "# Validates for if the remote file exists\n",
    "def url_exists(url):\n",
    "    if not url:\n",
    "        raise ValueError(\"url is required\")\n",
    "    try:\n",
    "        resp = requests.head(url)\n",
    "        return True if resp.status_code == 200 else False\n",
    "    except Exception as e:\n",
    "        return False"
   ]
  },
  {
   "cell_type": "code",
   "execution_count": 7,
   "id": "93f3fc2f-9458-427e-9a38-d8bf34c1c914",
   "metadata": {},
   "outputs": [],
   "source": [
    "\n",
    "def process_binance_files(timeframe, coinpair, binance_timeframes_list):\n",
    "    from datetime import datetime\n",
    "    max_years = 5\n",
    "    current_year = datetime.now().year\n",
    "    last_month = datetime.now().month - 1\n",
    "    year = current_year\n",
    "    months = 12\n",
    "    month = last_month\n",
    "    while (month <= months) and (year >= (current_year-max_years)):\n",
    "        str_month = str(month)\n",
    "        if len(str_month)==1:\n",
    "            str_month = \"0\" + str(month)\n",
    "        else:\n",
    "            str_month = str(month)\n",
    "        directory = \"./\"+coinpair+\"_\"+timeframe\n",
    "        filename = coinpair+'-'+timeframe+'-'+str(year)+'-'+str_month+'.zip'\n",
    "        csv_filename = coinpair+'-'+timeframe+'-'+str(year)+'-'+str_month+'.csv'\n",
    "        # Check if file exists if it does, skip.\n",
    "        file_exists = exists(directory+\"/\"+csv_filename)\n",
    "        url = 'https://data.binance.vision/data/spot/monthly/klines/'+coinpair+'/'+timeframe+'/'+filename\n",
    "        print(url)\n",
    "        valid=url_exists(url)\n",
    "        if valid==True:\n",
    "            if file_exists == False:\n",
    "                r = requests.get(url, allow_redirects=True)\n",
    "                if not os.path.exists(directory):\n",
    "                    os.makedirs(directory)\n",
    "                location = directory +\"/\"+filename\n",
    "                open(location, 'wb').write(r.content)\n",
    "                os.chdir(coinpair+\"_\"+timeframe)\n",
    "                with ZipFile(filename, 'r') as zipObj:\n",
    "                    # Extract all the contents of zip file in current directory\n",
    "                    zipObj.extractall()\n",
    "                    if os.path.exists(filename):\n",
    "                        os.remove(filename)\n",
    "                os.chdir(\"..\")\n",
    "            else:\n",
    "                print(f\"File {csv_filename} exists, skipping download..\")\n",
    "            # Load csv and upload to mongodb\n",
    "            csv_to_mongo(directory+\"/\"+csv_filename, coinpair+\"_\"+timeframe)\n",
    "\n",
    "        else:\n",
    "            year = year - max_years\n",
    "        # Update month and year\n",
    "        if month==1:\n",
    "            month = 12\n",
    "            year = year-1\n",
    "        else:\n",
    "            month = month - 1\n",
    "        "
   ]
  },
  {
   "cell_type": "code",
   "execution_count": 8,
   "id": "c29bf690-0e67-4747-afbc-befa33ded579",
   "metadata": {},
   "outputs": [],
   "source": [
    "def csv_to_mongo(csv_filename, collection_name):\n",
    "    headers=[\"open_time\", \"open\", \"high\", \"low\",\"close\",\"volume\",\"close_time\",\"quote_asset_volume\",\"numer_trades\",\"taker_base_volume\",\"taker_quote_volume\",\"ignore\"]\n",
    "    kline_df = pd.read_csv(Path(csv_filename), parse_dates = True, infer_datetime_format = True, names=headers)\n",
    "    kline_df['open_time'] = kline_df['open_time'].values.astype(dtype='datetime64[ms]')\n",
    "    kline_df['close_time'] = kline_df['close_time'].values.astype(dtype='datetime64[ms]')\n",
    "    kline_df[[\"open\", \"high\", \"low\",\"close\",\"volume\",\"quote_asset_volume\",\"taker_base_volume\",\"taker_quote_volume\"]] = kline_df[[\"open\", \"high\", \"low\",\"close\",\"volume\",\"quote_asset_volume\",\"taker_base_volume\",\"taker_quote_volume\"]].astype(float)\n",
    "    kline_df = kline_df.drop(columns=['ignore'])\n",
    "    kline_dict = kline_df.to_dict(\"records\")\n",
    "    db[collection_name].insert_many(kline_dict)\n",
    "    db[collection_name].create_index([ (\"open_time\", -1) ])\n",
    "    "
   ]
  },
  {
   "cell_type": "code",
   "execution_count": 9,
   "id": "57c36683-5c55-4ed2-a766-105d768eeb6c",
   "metadata": {},
   "outputs": [],
   "source": [
    "def process(binance_timeframes_list, coinpair_list):\n",
    "    for timeframe in binance_timeframes_list:\n",
    "        for pair in coinpair_list:\n",
    "            collection_name=pair[\"pair\"]+\"_\"+timeframe\n",
    "            if collection_name not in db.list_collection_names():  \n",
    "                print(f\"Creating collection: {collection_name}\")\n",
    "                process_binance_files(timeframe, pair[\"pair\"], binance_timeframes_list, coinpair_list)\n",
    "                path = f\"./{collection_name}\"\n",
    "                print(path)\n",
    "                shutil.rmtree(path)\n",
    "            else:\n",
    "                print(f\"Collection {collection_name} found, skipping..\")"
   ]
  },
  {
   "cell_type": "code",
   "execution_count": 10,
   "id": "910d667f-fe2f-4928-9982-01ee19ec990b",
   "metadata": {},
   "outputs": [
    {
     "name": "stdout",
     "output_type": "stream",
     "text": [
      "Collection ADABUSD_1m found, skipping..\n",
      "Collection SOLBUSD_1m found, skipping..\n",
      "Collection BTCBUSD_1m found, skipping..\n",
      "Collection ETHBUSD_1m found, skipping..\n",
      "Collection LUNABUSD_1m found, skipping..\n",
      "Collection DOGEBUSD_1m found, skipping..\n",
      "Collection MATICBUSD_1m found, skipping..\n",
      "Collection MANABUSD_1m found, skipping..\n",
      "Collection ADABUSD_5m found, skipping..\n",
      "Collection SOLBUSD_5m found, skipping..\n",
      "Collection BTCBUSD_5m found, skipping..\n",
      "Collection ETHBUSD_5m found, skipping..\n",
      "Collection LUNABUSD_5m found, skipping..\n",
      "Collection DOGEBUSD_5m found, skipping..\n",
      "Collection MATICBUSD_5m found, skipping..\n",
      "Collection MANABUSD_5m found, skipping..\n",
      "Collection ADABUSD_30m found, skipping..\n",
      "Collection SOLBUSD_30m found, skipping..\n",
      "Collection BTCBUSD_30m found, skipping..\n",
      "Collection ETHBUSD_30m found, skipping..\n",
      "Collection LUNABUSD_30m found, skipping..\n",
      "Collection DOGEBUSD_30m found, skipping..\n",
      "Collection MATICBUSD_30m found, skipping..\n",
      "Collection MANABUSD_30m found, skipping..\n",
      "Collection ADABUSD_1h found, skipping..\n",
      "Collection SOLBUSD_1h found, skipping..\n",
      "Collection BTCBUSD_1h found, skipping..\n",
      "Collection ETHBUSD_1h found, skipping..\n",
      "Collection LUNABUSD_1h found, skipping..\n",
      "Collection DOGEBUSD_1h found, skipping..\n",
      "Collection MATICBUSD_1h found, skipping..\n",
      "Collection MANABUSD_1h found, skipping..\n",
      "Collection ADABUSD_1d found, skipping..\n",
      "Collection SOLBUSD_1d found, skipping..\n",
      "Collection BTCBUSD_1d found, skipping..\n",
      "Collection ETHBUSD_1d found, skipping..\n",
      "Collection LUNABUSD_1d found, skipping..\n",
      "Collection DOGEBUSD_1d found, skipping..\n",
      "Collection MATICBUSD_1d found, skipping..\n",
      "Collection MANABUSD_1d found, skipping..\n"
     ]
    }
   ],
   "source": [
    "# Call the function to populate the Database with the data downloaded from Binance website as zip\n",
    "process(binance_timeframes_list, coinpair_list)"
   ]
  },
  {
   "cell_type": "code",
   "execution_count": 11,
   "id": "fdcc8544-24a6-4a99-97d7-462d34038a22",
   "metadata": {},
   "outputs": [],
   "source": [
    "# Function to Get the Fear and Greed Index from https://alternative.me\n",
    "def get_fng():\n",
    "    url = 'https://api.alternative.me/fng/?limit='+str(365*10)\n",
    "    valid=url_exists(url)\n",
    "    fng=requests.get(url).json()\n",
    "    fng_data_df = pd.DataFrame(fng[\"data\"])\n",
    "    fng_data_df['timestamp'] = pd.to_datetime(fng_data_df['timestamp'], unit='s')\n",
    "    fng_data_df = fng_data_df.drop(columns=['time_until_update'])\n",
    "    fng_data_df['value'] = fng_data_df['value'].astype(int)\n",
    "    return fng_data_df\n",
    "\n",
    "# Function to Update the Fear and Greed Index into our MondoDB\n",
    "def update_fng(fng_data_df):\n",
    "    collection_name = \"fear_greed_index\"\n",
    "    data = fng_data_df.to_dict(\"records\")\n",
    "    db[collection_name].drop()\n",
    "    db[collection_name].insert_many(data)\n",
    "    db[collection_name].create_index([ (\"timestamp\", -1) ])\n",
    "    print(\"Done downloading Fear and Greed Index\")"
   ]
  },
  {
   "cell_type": "code",
   "execution_count": 12,
   "id": "04e22e1e-bd67-43c3-81d9-07c12921decc",
   "metadata": {},
   "outputs": [
    {
     "name": "stdout",
     "output_type": "stream",
     "text": [
      "Done downloading Fear and Greed Index\n"
     ]
    }
   ],
   "source": [
    "# Downloads and updates the Fear and Greed index data to the database\n",
    "fng_data_df = get_fng()\n",
    "update_fng(fng_data_df)"
   ]
  },
  {
   "cell_type": "code",
   "execution_count": 13,
   "id": "6bb81493-f9c1-4779-8724-720f3627b9ba",
   "metadata": {},
   "outputs": [],
   "source": [
    "for coinpair in coinpair_list:\n",
    "    update_coinpairs(coinpair)\n",
    "for timeframe in binance_timeframes_list:\n",
    "    update_timeframes(timeframe)"
   ]
  },
  {
   "cell_type": "code",
   "execution_count": null,
   "id": "35327a79-27cd-4e95-a85c-a2ea45e2c230",
   "metadata": {},
   "outputs": [],
   "source": [
    " "
   ]
  },
  {
   "cell_type": "code",
   "execution_count": null,
   "id": "0755f0e8-890f-4f1e-89d3-c120f1bc86de",
   "metadata": {},
   "outputs": [],
   "source": []
  }
 ],
 "metadata": {
  "kernelspec": {
   "display_name": "Python 3.7.11 64-bit ('dev': conda)",
   "language": "python",
   "name": "python3711jvsc74a57bd0031c6feeb2f4a45b81f49bc63f4349779b1ca77aa31178ffe6d389f35e50f837"
  },
  "language_info": {
   "codemirror_mode": {
    "name": "ipython",
    "version": 3
   },
   "file_extension": ".py",
   "mimetype": "text/x-python",
   "name": "python",
   "nbconvert_exporter": "python",
   "pygments_lexer": "ipython3",
   "version": "3.7.11"
  }
 },
 "nbformat": 4,
 "nbformat_minor": 5
}
