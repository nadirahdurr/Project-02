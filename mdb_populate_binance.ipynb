{
 "cells": [
  {
   "cell_type": "code",
   "execution_count": 1,
   "id": "d91df12a-77b7-4adf-95bd-7a1e2405aba9",
   "metadata": {},
   "outputs": [],
   "source": [
    "import os\n",
    "import glob\n",
    "import pandas as pd\n",
    "import requests\n",
    "#import validators\n",
    "from pymongo import MongoClient\n",
    "from pprint import pprint\n",
    "from dotenv import load_dotenv\n",
    "from pathlib import Path\n",
    "from zipfile import ZipFile\n",
    "from os.path import exists"
   ]
  },
  {
   "cell_type": "code",
   "execution_count": 2,
   "id": "f387c1e6-1de1-4e96-b530-b7a74eaf7653",
   "metadata": {},
   "outputs": [],
   "source": [
    "# Choose what to import\n",
    "coinpair_list = ['SOLBUSD']\n",
    "#coinpair_list = ['ADABUSD','SOLBUSD']\n",
    "binance_timeframes_list = ['1m', '5m', '30m', '1h', '1d']\n",
    "#TODO: Add coinpair to list"
   ]
  },
  {
   "cell_type": "code",
   "execution_count": 3,
   "id": "e43552d4-44d3-4333-aaaa-1fdcc64253c1",
   "metadata": {},
   "outputs": [
    {
     "ename": "KeyboardInterrupt",
     "evalue": "",
     "output_type": "error",
     "traceback": [
      "\u001b[0;31m---------------------------------------------------------------------------\u001b[0m",
      "\u001b[0;31mKeyboardInterrupt\u001b[0m                         Traceback (most recent call last)",
      "\u001b[0;32m/var/folders/6w/s45r6d2j2n76q180s04ypj3r0000gn/T/ipykernel_9684/2451317662.py\u001b[0m in \u001b[0;36m<module>\u001b[0;34m\u001b[0m\n\u001b[1;32m     18\u001b[0m \u001b[0;34m\u001b[0m\u001b[0m\n\u001b[1;32m     19\u001b[0m \u001b[0;31m# Test Connection\u001b[0m\u001b[0;34m\u001b[0m\u001b[0;34m\u001b[0m\u001b[0;34m\u001b[0m\u001b[0m\n\u001b[0;32m---> 20\u001b[0;31m \u001b[0mserverStatusResult\u001b[0m\u001b[0;34m=\u001b[0m\u001b[0mdb\u001b[0m\u001b[0;34m.\u001b[0m\u001b[0mcommand\u001b[0m\u001b[0;34m(\u001b[0m\u001b[0;34m\"serverStatus\"\u001b[0m\u001b[0;34m)\u001b[0m\u001b[0;34m\u001b[0m\u001b[0;34m\u001b[0m\u001b[0m\n\u001b[0m\u001b[1;32m     21\u001b[0m \u001b[0mprint\u001b[0m\u001b[0;34m(\u001b[0m\u001b[0mserverStatusResult\u001b[0m\u001b[0;34m[\u001b[0m\u001b[0;34m\"version\"\u001b[0m\u001b[0;34m]\u001b[0m\u001b[0;34m)\u001b[0m\u001b[0;34m\u001b[0m\u001b[0;34m\u001b[0m\u001b[0m\n",
      "\u001b[0;32m~/opt/anaconda3/envs/dev/lib/python3.7/site-packages/pymongo/database.py\u001b[0m in \u001b[0;36mcommand\u001b[0;34m(self, command, value, check, allowable_errors, read_preference, codec_options, session, **kwargs)\u001b[0m\n\u001b[1;32m    655\u001b[0m         \u001b[0;32mif\u001b[0m \u001b[0mread_preference\u001b[0m \u001b[0;32mis\u001b[0m \u001b[0;32mNone\u001b[0m\u001b[0;34m:\u001b[0m\u001b[0;34m\u001b[0m\u001b[0;34m\u001b[0m\u001b[0m\n\u001b[1;32m    656\u001b[0m             \u001b[0mread_preference\u001b[0m \u001b[0;34m=\u001b[0m \u001b[0;34m(\u001b[0m\u001b[0msession\u001b[0m \u001b[0;32mand\u001b[0m \u001b[0msession\u001b[0m\u001b[0;34m.\u001b[0m\u001b[0m_txn_read_preference\u001b[0m\u001b[0;34m(\u001b[0m\u001b[0;34m)\u001b[0m\u001b[0;34m)\u001b[0m \u001b[0;32mor\u001b[0m \u001b[0mReadPreference\u001b[0m\u001b[0;34m.\u001b[0m\u001b[0mPRIMARY\u001b[0m\u001b[0;34m\u001b[0m\u001b[0;34m\u001b[0m\u001b[0m\n\u001b[0;32m--> 657\u001b[0;31m         \u001b[0;32mwith\u001b[0m \u001b[0mself\u001b[0m\u001b[0;34m.\u001b[0m\u001b[0m__client\u001b[0m\u001b[0;34m.\u001b[0m\u001b[0m_socket_for_reads\u001b[0m\u001b[0;34m(\u001b[0m\u001b[0mread_preference\u001b[0m\u001b[0;34m,\u001b[0m \u001b[0msession\u001b[0m\u001b[0;34m)\u001b[0m \u001b[0;32mas\u001b[0m \u001b[0;34m(\u001b[0m\u001b[0msock_info\u001b[0m\u001b[0;34m,\u001b[0m \u001b[0msecondary_ok\u001b[0m\u001b[0;34m)\u001b[0m\u001b[0;34m:\u001b[0m\u001b[0;34m\u001b[0m\u001b[0;34m\u001b[0m\u001b[0m\n\u001b[0m\u001b[1;32m    658\u001b[0m             return self._command(\n\u001b[1;32m    659\u001b[0m                 \u001b[0msock_info\u001b[0m\u001b[0;34m,\u001b[0m\u001b[0;34m\u001b[0m\u001b[0;34m\u001b[0m\u001b[0m\n",
      "\u001b[0;32m~/opt/anaconda3/envs/dev/lib/python3.7/contextlib.py\u001b[0m in \u001b[0;36m__enter__\u001b[0;34m(self)\u001b[0m\n\u001b[1;32m    110\u001b[0m         \u001b[0;32mdel\u001b[0m \u001b[0mself\u001b[0m\u001b[0;34m.\u001b[0m\u001b[0margs\u001b[0m\u001b[0;34m,\u001b[0m \u001b[0mself\u001b[0m\u001b[0;34m.\u001b[0m\u001b[0mkwds\u001b[0m\u001b[0;34m,\u001b[0m \u001b[0mself\u001b[0m\u001b[0;34m.\u001b[0m\u001b[0mfunc\u001b[0m\u001b[0;34m\u001b[0m\u001b[0;34m\u001b[0m\u001b[0m\n\u001b[1;32m    111\u001b[0m         \u001b[0;32mtry\u001b[0m\u001b[0;34m:\u001b[0m\u001b[0;34m\u001b[0m\u001b[0;34m\u001b[0m\u001b[0m\n\u001b[0;32m--> 112\u001b[0;31m             \u001b[0;32mreturn\u001b[0m \u001b[0mnext\u001b[0m\u001b[0;34m(\u001b[0m\u001b[0mself\u001b[0m\u001b[0;34m.\u001b[0m\u001b[0mgen\u001b[0m\u001b[0;34m)\u001b[0m\u001b[0;34m\u001b[0m\u001b[0;34m\u001b[0m\u001b[0m\n\u001b[0m\u001b[1;32m    113\u001b[0m         \u001b[0;32mexcept\u001b[0m \u001b[0mStopIteration\u001b[0m\u001b[0;34m:\u001b[0m\u001b[0;34m\u001b[0m\u001b[0;34m\u001b[0m\u001b[0m\n\u001b[1;32m    114\u001b[0m             \u001b[0;32mraise\u001b[0m \u001b[0mRuntimeError\u001b[0m\u001b[0;34m(\u001b[0m\u001b[0;34m\"generator didn't yield\"\u001b[0m\u001b[0;34m)\u001b[0m \u001b[0;32mfrom\u001b[0m \u001b[0;32mNone\u001b[0m\u001b[0;34m\u001b[0m\u001b[0;34m\u001b[0m\u001b[0m\n",
      "\u001b[0;32m~/opt/anaconda3/envs/dev/lib/python3.7/site-packages/pymongo/mongo_client.py\u001b[0m in \u001b[0;36m_socket_for_reads\u001b[0;34m(self, read_preference, session)\u001b[0m\n\u001b[1;32m   1215\u001b[0m         \u001b[0;31m# Thread safe: if the type is single it cannot change.\u001b[0m\u001b[0;34m\u001b[0m\u001b[0;34m\u001b[0m\u001b[0;34m\u001b[0m\u001b[0m\n\u001b[1;32m   1216\u001b[0m         \u001b[0mtopology\u001b[0m \u001b[0;34m=\u001b[0m \u001b[0mself\u001b[0m\u001b[0;34m.\u001b[0m\u001b[0m_get_topology\u001b[0m\u001b[0;34m(\u001b[0m\u001b[0;34m)\u001b[0m\u001b[0;34m\u001b[0m\u001b[0;34m\u001b[0m\u001b[0m\n\u001b[0;32m-> 1217\u001b[0;31m         \u001b[0mserver\u001b[0m \u001b[0;34m=\u001b[0m \u001b[0mself\u001b[0m\u001b[0;34m.\u001b[0m\u001b[0m_select_server\u001b[0m\u001b[0;34m(\u001b[0m\u001b[0mread_preference\u001b[0m\u001b[0;34m,\u001b[0m \u001b[0msession\u001b[0m\u001b[0;34m)\u001b[0m\u001b[0;34m\u001b[0m\u001b[0;34m\u001b[0m\u001b[0m\n\u001b[0m\u001b[1;32m   1218\u001b[0m         \u001b[0msingle\u001b[0m \u001b[0;34m=\u001b[0m \u001b[0mtopology\u001b[0m\u001b[0;34m.\u001b[0m\u001b[0mdescription\u001b[0m\u001b[0;34m.\u001b[0m\u001b[0mtopology_type\u001b[0m \u001b[0;34m==\u001b[0m \u001b[0mTOPOLOGY_TYPE\u001b[0m\u001b[0;34m.\u001b[0m\u001b[0mSingle\u001b[0m\u001b[0;34m\u001b[0m\u001b[0;34m\u001b[0m\u001b[0m\n\u001b[1;32m   1219\u001b[0m \u001b[0;34m\u001b[0m\u001b[0m\n",
      "\u001b[0;32m~/opt/anaconda3/envs/dev/lib/python3.7/site-packages/pymongo/mongo_client.py\u001b[0m in \u001b[0;36m_select_server\u001b[0;34m(self, server_selector, session, address)\u001b[0m\n\u001b[1;32m   1174\u001b[0m                     \u001b[0;32mraise\u001b[0m \u001b[0mAutoReconnect\u001b[0m\u001b[0;34m(\u001b[0m\u001b[0;34m\"server %s:%d no longer available\"\u001b[0m \u001b[0;34m%\u001b[0m \u001b[0maddress\u001b[0m\u001b[0;34m)\u001b[0m\u001b[0;34m\u001b[0m\u001b[0;34m\u001b[0m\u001b[0m\n\u001b[1;32m   1175\u001b[0m             \u001b[0;32melse\u001b[0m\u001b[0;34m:\u001b[0m\u001b[0;34m\u001b[0m\u001b[0;34m\u001b[0m\u001b[0m\n\u001b[0;32m-> 1176\u001b[0;31m                 \u001b[0mserver\u001b[0m \u001b[0;34m=\u001b[0m \u001b[0mtopology\u001b[0m\u001b[0;34m.\u001b[0m\u001b[0mselect_server\u001b[0m\u001b[0;34m(\u001b[0m\u001b[0mserver_selector\u001b[0m\u001b[0;34m)\u001b[0m\u001b[0;34m\u001b[0m\u001b[0;34m\u001b[0m\u001b[0m\n\u001b[0m\u001b[1;32m   1177\u001b[0m             \u001b[0;32mreturn\u001b[0m \u001b[0mserver\u001b[0m\u001b[0;34m\u001b[0m\u001b[0;34m\u001b[0m\u001b[0m\n\u001b[1;32m   1178\u001b[0m         \u001b[0;32mexcept\u001b[0m \u001b[0mPyMongoError\u001b[0m \u001b[0;32mas\u001b[0m \u001b[0mexc\u001b[0m\u001b[0;34m:\u001b[0m\u001b[0;34m\u001b[0m\u001b[0;34m\u001b[0m\u001b[0m\n",
      "\u001b[0;32m~/opt/anaconda3/envs/dev/lib/python3.7/site-packages/pymongo/topology.py\u001b[0m in \u001b[0;36mselect_server\u001b[0;34m(self, selector, server_selection_timeout, address)\u001b[0m\n\u001b[1;32m    245\u001b[0m     \u001b[0;32mdef\u001b[0m \u001b[0mselect_server\u001b[0m\u001b[0;34m(\u001b[0m\u001b[0mself\u001b[0m\u001b[0;34m,\u001b[0m \u001b[0mselector\u001b[0m\u001b[0;34m,\u001b[0m \u001b[0mserver_selection_timeout\u001b[0m\u001b[0;34m=\u001b[0m\u001b[0;32mNone\u001b[0m\u001b[0;34m,\u001b[0m \u001b[0maddress\u001b[0m\u001b[0;34m=\u001b[0m\u001b[0;32mNone\u001b[0m\u001b[0;34m)\u001b[0m\u001b[0;34m:\u001b[0m\u001b[0;34m\u001b[0m\u001b[0;34m\u001b[0m\u001b[0m\n\u001b[1;32m    246\u001b[0m         \u001b[0;34m\"\"\"Like select_servers, but choose a random server if several match.\"\"\"\u001b[0m\u001b[0;34m\u001b[0m\u001b[0;34m\u001b[0m\u001b[0m\n\u001b[0;32m--> 247\u001b[0;31m         \u001b[0mservers\u001b[0m \u001b[0;34m=\u001b[0m \u001b[0mself\u001b[0m\u001b[0;34m.\u001b[0m\u001b[0mselect_servers\u001b[0m\u001b[0;34m(\u001b[0m\u001b[0mselector\u001b[0m\u001b[0;34m,\u001b[0m \u001b[0mserver_selection_timeout\u001b[0m\u001b[0;34m,\u001b[0m \u001b[0maddress\u001b[0m\u001b[0;34m)\u001b[0m\u001b[0;34m\u001b[0m\u001b[0;34m\u001b[0m\u001b[0m\n\u001b[0m\u001b[1;32m    248\u001b[0m         \u001b[0;32mif\u001b[0m \u001b[0mlen\u001b[0m\u001b[0;34m(\u001b[0m\u001b[0mservers\u001b[0m\u001b[0;34m)\u001b[0m \u001b[0;34m==\u001b[0m \u001b[0;36m1\u001b[0m\u001b[0;34m:\u001b[0m\u001b[0;34m\u001b[0m\u001b[0;34m\u001b[0m\u001b[0m\n\u001b[1;32m    249\u001b[0m             \u001b[0;32mreturn\u001b[0m \u001b[0mservers\u001b[0m\u001b[0;34m[\u001b[0m\u001b[0;36m0\u001b[0m\u001b[0;34m]\u001b[0m\u001b[0;34m\u001b[0m\u001b[0;34m\u001b[0m\u001b[0m\n",
      "\u001b[0;32m~/opt/anaconda3/envs/dev/lib/python3.7/site-packages/pymongo/topology.py\u001b[0m in \u001b[0;36mselect_servers\u001b[0;34m(self, selector, server_selection_timeout, address)\u001b[0m\n\u001b[1;32m    206\u001b[0m \u001b[0;34m\u001b[0m\u001b[0m\n\u001b[1;32m    207\u001b[0m         \u001b[0;32mwith\u001b[0m \u001b[0mself\u001b[0m\u001b[0;34m.\u001b[0m\u001b[0m_lock\u001b[0m\u001b[0;34m:\u001b[0m\u001b[0;34m\u001b[0m\u001b[0;34m\u001b[0m\u001b[0m\n\u001b[0;32m--> 208\u001b[0;31m             \u001b[0mserver_descriptions\u001b[0m \u001b[0;34m=\u001b[0m \u001b[0mself\u001b[0m\u001b[0;34m.\u001b[0m\u001b[0m_select_servers_loop\u001b[0m\u001b[0;34m(\u001b[0m\u001b[0mselector\u001b[0m\u001b[0;34m,\u001b[0m \u001b[0mserver_timeout\u001b[0m\u001b[0;34m,\u001b[0m \u001b[0maddress\u001b[0m\u001b[0;34m)\u001b[0m\u001b[0;34m\u001b[0m\u001b[0;34m\u001b[0m\u001b[0m\n\u001b[0m\u001b[1;32m    209\u001b[0m \u001b[0;34m\u001b[0m\u001b[0m\n\u001b[1;32m    210\u001b[0m             \u001b[0;32mreturn\u001b[0m \u001b[0;34m[\u001b[0m\u001b[0mself\u001b[0m\u001b[0;34m.\u001b[0m\u001b[0mget_server_by_address\u001b[0m\u001b[0;34m(\u001b[0m\u001b[0msd\u001b[0m\u001b[0;34m.\u001b[0m\u001b[0maddress\u001b[0m\u001b[0;34m)\u001b[0m \u001b[0;32mfor\u001b[0m \u001b[0msd\u001b[0m \u001b[0;32min\u001b[0m \u001b[0mserver_descriptions\u001b[0m\u001b[0;34m]\u001b[0m\u001b[0;34m\u001b[0m\u001b[0;34m\u001b[0m\u001b[0m\n",
      "\u001b[0;32m~/opt/anaconda3/envs/dev/lib/python3.7/site-packages/pymongo/topology.py\u001b[0m in \u001b[0;36m_select_servers_loop\u001b[0;34m(self, selector, timeout, address)\u001b[0m\n\u001b[1;32m    233\u001b[0m             \u001b[0;31m# came after our most recent apply_selector call, since we've\u001b[0m\u001b[0;34m\u001b[0m\u001b[0;34m\u001b[0m\u001b[0;34m\u001b[0m\u001b[0m\n\u001b[1;32m    234\u001b[0m             \u001b[0;31m# held the lock until now.\u001b[0m\u001b[0;34m\u001b[0m\u001b[0;34m\u001b[0m\u001b[0;34m\u001b[0m\u001b[0m\n\u001b[0;32m--> 235\u001b[0;31m             \u001b[0mself\u001b[0m\u001b[0;34m.\u001b[0m\u001b[0m_condition\u001b[0m\u001b[0;34m.\u001b[0m\u001b[0mwait\u001b[0m\u001b[0;34m(\u001b[0m\u001b[0mcommon\u001b[0m\u001b[0;34m.\u001b[0m\u001b[0mMIN_HEARTBEAT_INTERVAL\u001b[0m\u001b[0;34m)\u001b[0m\u001b[0;34m\u001b[0m\u001b[0;34m\u001b[0m\u001b[0m\n\u001b[0m\u001b[1;32m    236\u001b[0m             \u001b[0mself\u001b[0m\u001b[0;34m.\u001b[0m\u001b[0m_description\u001b[0m\u001b[0;34m.\u001b[0m\u001b[0mcheck_compatible\u001b[0m\u001b[0;34m(\u001b[0m\u001b[0;34m)\u001b[0m\u001b[0;34m\u001b[0m\u001b[0;34m\u001b[0m\u001b[0m\n\u001b[1;32m    237\u001b[0m             \u001b[0mnow\u001b[0m \u001b[0;34m=\u001b[0m \u001b[0mtime\u001b[0m\u001b[0;34m.\u001b[0m\u001b[0mmonotonic\u001b[0m\u001b[0;34m(\u001b[0m\u001b[0;34m)\u001b[0m\u001b[0;34m\u001b[0m\u001b[0;34m\u001b[0m\u001b[0m\n",
      "\u001b[0;32m~/opt/anaconda3/envs/dev/lib/python3.7/threading.py\u001b[0m in \u001b[0;36mwait\u001b[0;34m(self, timeout)\u001b[0m\n\u001b[1;32m    298\u001b[0m             \u001b[0;32melse\u001b[0m\u001b[0;34m:\u001b[0m\u001b[0;34m\u001b[0m\u001b[0;34m\u001b[0m\u001b[0m\n\u001b[1;32m    299\u001b[0m                 \u001b[0;32mif\u001b[0m \u001b[0mtimeout\u001b[0m \u001b[0;34m>\u001b[0m \u001b[0;36m0\u001b[0m\u001b[0;34m:\u001b[0m\u001b[0;34m\u001b[0m\u001b[0;34m\u001b[0m\u001b[0m\n\u001b[0;32m--> 300\u001b[0;31m                     \u001b[0mgotit\u001b[0m \u001b[0;34m=\u001b[0m \u001b[0mwaiter\u001b[0m\u001b[0;34m.\u001b[0m\u001b[0macquire\u001b[0m\u001b[0;34m(\u001b[0m\u001b[0;32mTrue\u001b[0m\u001b[0;34m,\u001b[0m \u001b[0mtimeout\u001b[0m\u001b[0;34m)\u001b[0m\u001b[0;34m\u001b[0m\u001b[0;34m\u001b[0m\u001b[0m\n\u001b[0m\u001b[1;32m    301\u001b[0m                 \u001b[0;32melse\u001b[0m\u001b[0;34m:\u001b[0m\u001b[0;34m\u001b[0m\u001b[0;34m\u001b[0m\u001b[0m\n\u001b[1;32m    302\u001b[0m                     \u001b[0mgotit\u001b[0m \u001b[0;34m=\u001b[0m \u001b[0mwaiter\u001b[0m\u001b[0;34m.\u001b[0m\u001b[0macquire\u001b[0m\u001b[0;34m(\u001b[0m\u001b[0;32mFalse\u001b[0m\u001b[0;34m)\u001b[0m\u001b[0;34m\u001b[0m\u001b[0;34m\u001b[0m\u001b[0m\n",
      "\u001b[0;31mKeyboardInterrupt\u001b[0m: "
     ]
    }
   ],
   "source": [
    "# Load Environment Variables\n",
    "load_dotenv()\n",
    "\n",
    "# Gets MongoDB Connection String\n",
    "MDB_CONNECTION_STRING = os.getenv('MDB_CONNECTION_STRING')\n",
    "\n",
    "# Function to connect to the Mongo DB\n",
    "def get_database():\n",
    "    try:\n",
    "        client = MongoClient(MDB_CONNECTION_STRING)\n",
    "        db = client[\"project-02\"]\n",
    "        return db\n",
    "    except Exception as e:\n",
    "        print(e)\n",
    "        \n",
    "# Connect to the db\n",
    "db = get_database()\n",
    "\n",
    "# Test Connection\n",
    "serverStatusResult=db.command(\"serverStatus\")\n",
    "print(serverStatusResult[\"version\"])"
   ]
  },
  {
   "cell_type": "code",
   "execution_count": null,
   "id": "1ae211b5-2862-4987-b722-124f08639c25",
   "metadata": {},
   "outputs": [],
   "source": [
    "def get_coinpairs():\n",
    "    # Get the coinpairs from the Database\n",
    "    db_coinpairs = db[\"coinpairs\"].find({\"exchange\" : \"binance\"})\n",
    "\n",
    "    # convert the dictionary objects to dataframe\n",
    "    binance_coinpairs_df = pd.DataFrame(db_coinpairs)\n",
    "\n",
    "    # see the magic\n",
    "    coinpair_list = list(binance_coinpairs_df['pair'])\n",
    "    return coinpair_list\n",
    "#coinpair_list = get_coinpairs()\n",
    "#print(coinpair_list)"
   ]
  },
  {
   "cell_type": "code",
   "execution_count": null,
   "id": "3df55bad-c857-4185-a545-2cadad3281a7",
   "metadata": {},
   "outputs": [],
   "source": [
    "def get_timeframes():\n",
    "    # Get the timeframes from the Database\n",
    "    db_binance_timeframes = db[\"binance_timeframes\"].find()\n",
    "\n",
    "    # convert the dictionary objects to dataframe\n",
    "    binance_timeframes_df = pd.DataFrame(db_binance_timeframes)\n",
    "\n",
    "    # see the magic\n",
    "    binance_timeframes_list = list(binance_timeframes_df['timeframe'])\n",
    "    return binance_timeframes_list\n",
    "#binance_timeframes_list = get_timeframes()\n",
    "#print(binance_timeframes_list)"
   ]
  },
  {
   "cell_type": "code",
   "execution_count": null,
   "id": "963c160f-be2c-4c86-a6ee-72c0816d45d2",
   "metadata": {},
   "outputs": [],
   "source": [
    "# Validates for if the remote file exists\n",
    "def url_exists(url):\n",
    "    if not url:\n",
    "        raise ValueError(\"url is required\")\n",
    "    try:\n",
    "        resp = requests.head(url)\n",
    "        return True if resp.status_code == 200 else False\n",
    "    except Exception as e:\n",
    "        return False"
   ]
  },
  {
   "cell_type": "code",
   "execution_count": null,
   "id": "93f3fc2f-9458-427e-9a38-d8bf34c1c914",
   "metadata": {},
   "outputs": [],
   "source": [
    "def process_binance_files(timeframe, coinpair, binance_timeframes_list, coinpair_list):\n",
    "    from datetime import datetime\n",
    "    max_years = 5\n",
    "    current_year = datetime.now().year\n",
    "    last_month = datetime.now().month - 1\n",
    "    year = current_year\n",
    "    months = 12\n",
    "    month = last_month\n",
    "    while (month <= months) and (year >= (current_year-max_years)):\n",
    "        str_month = str(month)\n",
    "        if len(str_month)==1:\n",
    "            str_month = \"0\" + str(month)\n",
    "        else:\n",
    "            str_month = str(month)\n",
    "        directory = \"./\"+coinpair+\"_\"+timeframe\n",
    "        filename = coinpair+'-'+timeframe+'-'+str(year)+'-'+str_month+'.zip'\n",
    "        csv_filename = coinpair+'-'+timeframe+'-'+str(year)+'-'+str_month+'.csv'\n",
    "        # Check if file exists if it does, skip.\n",
    "        file_exists = exists(directory+\"/\"+csv_filename)\n",
    "        url = 'https://data.binance.vision/data/spot/monthly/klines/'+coinpair+'/'+timeframe+'/'+filename\n",
    "        print(url)\n",
    "        valid=url_exists(url)\n",
    "        if valid==True:\n",
    "            if file_exists == False:\n",
    "                r = requests.get(url, allow_redirects=True)\n",
    "                if not os.path.exists(directory):\n",
    "                    os.makedirs(directory)\n",
    "                location = directory +\"/\"+filename\n",
    "                open(location, 'wb').write(r.content)\n",
    "                os.chdir(coinpair+\"_\"+timeframe)\n",
    "                with ZipFile(filename, 'r') as zipObj:\n",
    "                    # Extract all the contents of zip file in current directory\n",
    "                    zipObj.extractall()\n",
    "                    if os.path.exists(filename):\n",
    "                        os.remove(filename)\n",
    "                os.chdir(\"..\")\n",
    "            else:\n",
    "                print(f\"File {csv_filename} exists, skipping download..\")\n",
    "            # Load csv and upload to mongodb\n",
    "            csv_to_mongo(directory+\"/\"+csv_filename, coinpair+\"_\"+timeframe)\n",
    "        else:\n",
    "            year = year - max_years\n",
    "        # Update month and year\n",
    "        if month==1:\n",
    "            month = 12\n",
    "            year = year-1\n",
    "        else:\n",
    "            month = month - 1\n",
    "        "
   ]
  },
  {
   "cell_type": "code",
   "execution_count": null,
   "id": "c29bf690-0e67-4747-afbc-befa33ded579",
   "metadata": {},
   "outputs": [],
   "source": [
    "def csv_to_mongo(csv_filename, collection_name):\n",
    "    headers=[\"open_time\", \"open\", \"high\", \"low\",\"close\",\"volume\",\"close_time\",\"quote_asset_volume\",\"numer_trades\",\"taker_base_volume\",\"taker_quote_volume\",\"ignore\"]\n",
    "    kline_df = pd.read_csv(Path(csv_filename), parse_dates = True, infer_datetime_format = True, names=headers)\n",
    "    kline_df['open_time'] = kline_df['open_time'].values.astype(dtype='datetime64[ms]')\n",
    "    kline_df['close_time'] = kline_df['close_time'].values.astype(dtype='datetime64[ms]')\n",
    "    kline_df[[\"open\", \"high\", \"low\",\"close\",\"volume\",\"quote_asset_volume\",\"taker_base_volume\",\"taker_quote_volume\"]] = kline_df[[\"open\", \"high\", \"low\",\"close\",\"volume\",\"quote_asset_volume\",\"taker_base_volume\",\"taker_quote_volume\"]].astype(float)\n",
    "    kline_df = kline_df.drop(columns=['ignore'])\n",
    "    kline_dict = kline_df.to_dict(\"records\")\n",
    "    db[collection_name].insert_many(kline_dict)\n",
    "    db[collection_name].create_index([ (\"open_time\", -1) ])\n",
    "    "
   ]
  },
  {
   "cell_type": "code",
   "execution_count": null,
   "id": "937c3aa4-728e-4e35-8b59-d258fc1a40f0",
   "metadata": {},
   "outputs": [],
   "source": []
  },
  {
   "cell_type": "code",
   "execution_count": null,
   "id": "57c36683-5c55-4ed2-a766-105d768eeb6c",
   "metadata": {},
   "outputs": [],
   "source": [
    "def process(binance_timeframes_list, coinpair_list):\n",
    "    for timeframe in binance_timeframes_list:\n",
    "        for pair in coinpair_list:\n",
    "            collection_name=pair+\"_\"+timeframe\n",
    "            if collection_name not in db.list_collection_names():  \n",
    "                print(f\"Creating collection: {collection_name}\")\n",
    "                process_binance_files(timeframe, pair, binance_timeframes_list, coinpair_list)\n",
    "            else:\n",
    "                print(f\"Collection {collection_name} found, skipping..\")"
   ]
  },
  {
   "cell_type": "code",
   "execution_count": null,
   "id": "910d667f-fe2f-4928-9982-01ee19ec990b",
   "metadata": {},
   "outputs": [],
   "source": [
    "process(binance_timeframes_list, coinpair_list)"
   ]
  },
  {
   "cell_type": "code",
   "execution_count": null,
   "id": "fdcc8544-24a6-4a99-97d7-462d34038a22",
   "metadata": {},
   "outputs": [],
   "source": [
    "def get_fng():\n",
    "    url = 'https://api.alternative.me/fng/?limit='+str(365*10)\n",
    "    valid=url_exists(url)\n",
    "    fng=requests.get(url).json()\n",
    "    fng_data_df = pd.DataFrame(fng[\"data\"])\n",
    "    #fng_data_df['timestamp'] = fng_data_df['timestamp'].values.astype(dtype='datetime64[ms]')\n",
    "    fng_data_df['timestamp'] = pd.to_datetime(fng_data_df['timestamp'], unit='s')\n",
    "    fng_data_df = fng_data_df.drop(columns=['time_until_update'])\n",
    "    fng_data_df['value'] = fng_data_df['value'].astype(int)\n",
    "    print(fng_data_df)\n",
    "    return fng_data_df\n",
    "\n",
    "def update_fng(fng_data_df):\n",
    "    collection_name = \"fear_greed_index\"\n",
    "    data = fng_data_df.to_dict(\"records\")\n",
    "    db[collection_name].drop()\n",
    "    db[collection_name].insert_many(data)\n",
    "    db[collection_name].create_index([ (\"timestamp\", -1) ])\n",
    "    print(\"Done downloading Fear and Greed Index\")"
   ]
  },
  {
   "cell_type": "code",
   "execution_count": null,
   "id": "04e22e1e-bd67-43c3-81d9-07c12921decc",
   "metadata": {},
   "outputs": [],
   "source": [
    "fng_data_df = get_fng()\n",
    "update_fng(fng_data_df)"
   ]
  },
  {
   "cell_type": "code",
   "execution_count": null,
   "id": "6bb81493-f9c1-4779-8724-720f3627b9ba",
   "metadata": {},
   "outputs": [],
   "source": []
  }
 ],
 "metadata": {
  "kernelspec": {
   "display_name": "Python 3.7.11 64-bit ('dev': conda)",
   "language": "python",
   "name": "python3711jvsc74a57bd0031c6feeb2f4a45b81f49bc63f4349779b1ca77aa31178ffe6d389f35e50f837"
  },
  "language_info": {
   "codemirror_mode": {
    "name": "ipython",
    "version": 3
   },
   "file_extension": ".py",
   "mimetype": "text/x-python",
   "name": "python",
   "nbconvert_exporter": "python",
   "pygments_lexer": "ipython3",
   "version": "3.7.11"
  }
 },
 "nbformat": 4,
 "nbformat_minor": 5
}
