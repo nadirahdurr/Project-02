{
 "cells": [
  {
   "cell_type": "code",
   "execution_count": 6,
   "id": "0bea4e7c-b02b-47d2-b0ac-e2412594333c",
   "metadata": {},
   "outputs": [],
   "source": [
    "import pandas as pd\n",
    "from pymongo import MongoClient\n",
    "from pprint import pprint\n",
    "from dotenv import load_dotenv\n",
    "from binance.client import Client\n",
    "from binance import AsyncClient\n",
    "import glob\n",
    "import os\n",
    "from pathlib import Path\n",
    "import asyncio"
   ]
  },
  {
   "cell_type": "code",
   "execution_count": 7,
   "id": "8bfa53bd-b571-4917-850d-fca32b578c2d",
   "metadata": {},
   "outputs": [],
   "source": [
    "# Load Environment Variables\n",
    "load_dotenv()\n",
    "\n",
    "# Gets MongoDB Connection String\n",
    "MDB_CONNECTION_STRING = os.getenv('MDB_CONNECTION_STRING')\n",
    "\n",
    "# Gets Binance Api Key and Api Secret\n",
    "BINANCE_API_KEY = os.getenv('BINANCE_API_KEY')\n",
    "BINANCE_API_SECRET = os.getenv('BINANCE_API_SECRET')"
   ]
  },
  {
   "cell_type": "code",
   "execution_count": 8,
   "id": "6df704b5-f0d2-4e68-a65a-bf13d6c2457c",
   "metadata": {},
   "outputs": [],
   "source": [
    "# Function to connect to the Mongo DB\n",
    "def get_database():\n",
    "    try:\n",
    "        client = MongoClient(MDB_CONNECTION_STRING)\n",
    "        db = client[\"project-02\"]\n",
    "        return db\n",
    "    except Exception as e:\n",
    "        print(e)"
   ]
  },
  {
   "cell_type": "code",
   "execution_count": 9,
   "id": "bc76f891-50ae-42b0-9565-4f86319990ee",
   "metadata": {},
   "outputs": [],
   "source": [
    "# Connect to the db\n",
    "db = get_database()"
   ]
  },
  {
   "cell_type": "code",
   "execution_count": 10,
   "id": "61f14ce7-2808-48f4-9fc9-742a9facf663",
   "metadata": {},
   "outputs": [
    {
     "ename": "ServerSelectionTimeoutError",
     "evalue": "cluster0-shard-00-01.efpum.mongodb.net:27017: timed out,cluster0-shard-00-02.efpum.mongodb.net:27017: timed out,cluster0-shard-00-00.efpum.mongodb.net:27017: timed out, Timeout: 30s, Topology Description: <TopologyDescription id: 6244cc3f96e4e0685a2652ec, topology_type: ReplicaSetNoPrimary, servers: [<ServerDescription ('cluster0-shard-00-00.efpum.mongodb.net', 27017) server_type: Unknown, rtt: None, error=NetworkTimeout('cluster0-shard-00-00.efpum.mongodb.net:27017: timed out')>, <ServerDescription ('cluster0-shard-00-01.efpum.mongodb.net', 27017) server_type: Unknown, rtt: None, error=NetworkTimeout('cluster0-shard-00-01.efpum.mongodb.net:27017: timed out')>, <ServerDescription ('cluster0-shard-00-02.efpum.mongodb.net', 27017) server_type: Unknown, rtt: None, error=NetworkTimeout('cluster0-shard-00-02.efpum.mongodb.net:27017: timed out')>]>",
     "output_type": "error",
     "traceback": [
      "\u001b[0;31m---------------------------------------------------------------------------\u001b[0m",
      "\u001b[0;31mServerSelectionTimeoutError\u001b[0m               Traceback (most recent call last)",
      "\u001b[0;32m/var/folders/6w/s45r6d2j2n76q180s04ypj3r0000gn/T/ipykernel_95642/2570997554.py\u001b[0m in \u001b[0;36m<module>\u001b[0;34m\u001b[0m\n\u001b[1;32m      1\u001b[0m \u001b[0;31m# Test Connection\u001b[0m\u001b[0;34m\u001b[0m\u001b[0;34m\u001b[0m\u001b[0;34m\u001b[0m\u001b[0m\n\u001b[0;32m----> 2\u001b[0;31m \u001b[0mserverStatusResult\u001b[0m\u001b[0;34m=\u001b[0m\u001b[0mdb\u001b[0m\u001b[0;34m.\u001b[0m\u001b[0mcommand\u001b[0m\u001b[0;34m(\u001b[0m\u001b[0;34m\"serverStatus\"\u001b[0m\u001b[0;34m)\u001b[0m\u001b[0;34m\u001b[0m\u001b[0;34m\u001b[0m\u001b[0m\n\u001b[0m\u001b[1;32m      3\u001b[0m \u001b[0mprint\u001b[0m\u001b[0;34m(\u001b[0m\u001b[0mserverStatusResult\u001b[0m\u001b[0;34m[\u001b[0m\u001b[0;34m\"version\"\u001b[0m\u001b[0;34m]\u001b[0m\u001b[0;34m)\u001b[0m\u001b[0;34m\u001b[0m\u001b[0;34m\u001b[0m\u001b[0m\n",
      "\u001b[0;32m~/opt/anaconda3/envs/dev/lib/python3.7/site-packages/pymongo/database.py\u001b[0m in \u001b[0;36mcommand\u001b[0;34m(self, command, value, check, allowable_errors, read_preference, codec_options, session, **kwargs)\u001b[0m\n\u001b[1;32m    655\u001b[0m         \u001b[0;32mif\u001b[0m \u001b[0mread_preference\u001b[0m \u001b[0;32mis\u001b[0m \u001b[0;32mNone\u001b[0m\u001b[0;34m:\u001b[0m\u001b[0;34m\u001b[0m\u001b[0;34m\u001b[0m\u001b[0m\n\u001b[1;32m    656\u001b[0m             \u001b[0mread_preference\u001b[0m \u001b[0;34m=\u001b[0m \u001b[0;34m(\u001b[0m\u001b[0msession\u001b[0m \u001b[0;32mand\u001b[0m \u001b[0msession\u001b[0m\u001b[0;34m.\u001b[0m\u001b[0m_txn_read_preference\u001b[0m\u001b[0;34m(\u001b[0m\u001b[0;34m)\u001b[0m\u001b[0;34m)\u001b[0m \u001b[0;32mor\u001b[0m \u001b[0mReadPreference\u001b[0m\u001b[0;34m.\u001b[0m\u001b[0mPRIMARY\u001b[0m\u001b[0;34m\u001b[0m\u001b[0;34m\u001b[0m\u001b[0m\n\u001b[0;32m--> 657\u001b[0;31m         \u001b[0;32mwith\u001b[0m \u001b[0mself\u001b[0m\u001b[0;34m.\u001b[0m\u001b[0m__client\u001b[0m\u001b[0;34m.\u001b[0m\u001b[0m_socket_for_reads\u001b[0m\u001b[0;34m(\u001b[0m\u001b[0mread_preference\u001b[0m\u001b[0;34m,\u001b[0m \u001b[0msession\u001b[0m\u001b[0;34m)\u001b[0m \u001b[0;32mas\u001b[0m \u001b[0;34m(\u001b[0m\u001b[0msock_info\u001b[0m\u001b[0;34m,\u001b[0m \u001b[0msecondary_ok\u001b[0m\u001b[0;34m)\u001b[0m\u001b[0;34m:\u001b[0m\u001b[0;34m\u001b[0m\u001b[0;34m\u001b[0m\u001b[0m\n\u001b[0m\u001b[1;32m    658\u001b[0m             return self._command(\n\u001b[1;32m    659\u001b[0m                 \u001b[0msock_info\u001b[0m\u001b[0;34m,\u001b[0m\u001b[0;34m\u001b[0m\u001b[0;34m\u001b[0m\u001b[0m\n",
      "\u001b[0;32m~/opt/anaconda3/envs/dev/lib/python3.7/contextlib.py\u001b[0m in \u001b[0;36m__enter__\u001b[0;34m(self)\u001b[0m\n\u001b[1;32m    110\u001b[0m         \u001b[0;32mdel\u001b[0m \u001b[0mself\u001b[0m\u001b[0;34m.\u001b[0m\u001b[0margs\u001b[0m\u001b[0;34m,\u001b[0m \u001b[0mself\u001b[0m\u001b[0;34m.\u001b[0m\u001b[0mkwds\u001b[0m\u001b[0;34m,\u001b[0m \u001b[0mself\u001b[0m\u001b[0;34m.\u001b[0m\u001b[0mfunc\u001b[0m\u001b[0;34m\u001b[0m\u001b[0;34m\u001b[0m\u001b[0m\n\u001b[1;32m    111\u001b[0m         \u001b[0;32mtry\u001b[0m\u001b[0;34m:\u001b[0m\u001b[0;34m\u001b[0m\u001b[0;34m\u001b[0m\u001b[0m\n\u001b[0;32m--> 112\u001b[0;31m             \u001b[0;32mreturn\u001b[0m \u001b[0mnext\u001b[0m\u001b[0;34m(\u001b[0m\u001b[0mself\u001b[0m\u001b[0;34m.\u001b[0m\u001b[0mgen\u001b[0m\u001b[0;34m)\u001b[0m\u001b[0;34m\u001b[0m\u001b[0;34m\u001b[0m\u001b[0m\n\u001b[0m\u001b[1;32m    113\u001b[0m         \u001b[0;32mexcept\u001b[0m \u001b[0mStopIteration\u001b[0m\u001b[0;34m:\u001b[0m\u001b[0;34m\u001b[0m\u001b[0;34m\u001b[0m\u001b[0m\n\u001b[1;32m    114\u001b[0m             \u001b[0;32mraise\u001b[0m \u001b[0mRuntimeError\u001b[0m\u001b[0;34m(\u001b[0m\u001b[0;34m\"generator didn't yield\"\u001b[0m\u001b[0;34m)\u001b[0m \u001b[0;32mfrom\u001b[0m \u001b[0;32mNone\u001b[0m\u001b[0;34m\u001b[0m\u001b[0;34m\u001b[0m\u001b[0m\n",
      "\u001b[0;32m~/opt/anaconda3/envs/dev/lib/python3.7/site-packages/pymongo/mongo_client.py\u001b[0m in \u001b[0;36m_socket_for_reads\u001b[0;34m(self, read_preference, session)\u001b[0m\n\u001b[1;32m   1215\u001b[0m         \u001b[0;31m# Thread safe: if the type is single it cannot change.\u001b[0m\u001b[0;34m\u001b[0m\u001b[0;34m\u001b[0m\u001b[0;34m\u001b[0m\u001b[0m\n\u001b[1;32m   1216\u001b[0m         \u001b[0mtopology\u001b[0m \u001b[0;34m=\u001b[0m \u001b[0mself\u001b[0m\u001b[0;34m.\u001b[0m\u001b[0m_get_topology\u001b[0m\u001b[0;34m(\u001b[0m\u001b[0;34m)\u001b[0m\u001b[0;34m\u001b[0m\u001b[0;34m\u001b[0m\u001b[0m\n\u001b[0;32m-> 1217\u001b[0;31m         \u001b[0mserver\u001b[0m \u001b[0;34m=\u001b[0m \u001b[0mself\u001b[0m\u001b[0;34m.\u001b[0m\u001b[0m_select_server\u001b[0m\u001b[0;34m(\u001b[0m\u001b[0mread_preference\u001b[0m\u001b[0;34m,\u001b[0m \u001b[0msession\u001b[0m\u001b[0;34m)\u001b[0m\u001b[0;34m\u001b[0m\u001b[0;34m\u001b[0m\u001b[0m\n\u001b[0m\u001b[1;32m   1218\u001b[0m         \u001b[0msingle\u001b[0m \u001b[0;34m=\u001b[0m \u001b[0mtopology\u001b[0m\u001b[0;34m.\u001b[0m\u001b[0mdescription\u001b[0m\u001b[0;34m.\u001b[0m\u001b[0mtopology_type\u001b[0m \u001b[0;34m==\u001b[0m \u001b[0mTOPOLOGY_TYPE\u001b[0m\u001b[0;34m.\u001b[0m\u001b[0mSingle\u001b[0m\u001b[0;34m\u001b[0m\u001b[0;34m\u001b[0m\u001b[0m\n\u001b[1;32m   1219\u001b[0m \u001b[0;34m\u001b[0m\u001b[0m\n",
      "\u001b[0;32m~/opt/anaconda3/envs/dev/lib/python3.7/site-packages/pymongo/mongo_client.py\u001b[0m in \u001b[0;36m_select_server\u001b[0;34m(self, server_selector, session, address)\u001b[0m\n\u001b[1;32m   1174\u001b[0m                     \u001b[0;32mraise\u001b[0m \u001b[0mAutoReconnect\u001b[0m\u001b[0;34m(\u001b[0m\u001b[0;34m\"server %s:%d no longer available\"\u001b[0m \u001b[0;34m%\u001b[0m \u001b[0maddress\u001b[0m\u001b[0;34m)\u001b[0m\u001b[0;34m\u001b[0m\u001b[0;34m\u001b[0m\u001b[0m\n\u001b[1;32m   1175\u001b[0m             \u001b[0;32melse\u001b[0m\u001b[0;34m:\u001b[0m\u001b[0;34m\u001b[0m\u001b[0;34m\u001b[0m\u001b[0m\n\u001b[0;32m-> 1176\u001b[0;31m                 \u001b[0mserver\u001b[0m \u001b[0;34m=\u001b[0m \u001b[0mtopology\u001b[0m\u001b[0;34m.\u001b[0m\u001b[0mselect_server\u001b[0m\u001b[0;34m(\u001b[0m\u001b[0mserver_selector\u001b[0m\u001b[0;34m)\u001b[0m\u001b[0;34m\u001b[0m\u001b[0;34m\u001b[0m\u001b[0m\n\u001b[0m\u001b[1;32m   1177\u001b[0m             \u001b[0;32mreturn\u001b[0m \u001b[0mserver\u001b[0m\u001b[0;34m\u001b[0m\u001b[0;34m\u001b[0m\u001b[0m\n\u001b[1;32m   1178\u001b[0m         \u001b[0;32mexcept\u001b[0m \u001b[0mPyMongoError\u001b[0m \u001b[0;32mas\u001b[0m \u001b[0mexc\u001b[0m\u001b[0;34m:\u001b[0m\u001b[0;34m\u001b[0m\u001b[0;34m\u001b[0m\u001b[0m\n",
      "\u001b[0;32m~/opt/anaconda3/envs/dev/lib/python3.7/site-packages/pymongo/topology.py\u001b[0m in \u001b[0;36mselect_server\u001b[0;34m(self, selector, server_selection_timeout, address)\u001b[0m\n\u001b[1;32m    245\u001b[0m     \u001b[0;32mdef\u001b[0m \u001b[0mselect_server\u001b[0m\u001b[0;34m(\u001b[0m\u001b[0mself\u001b[0m\u001b[0;34m,\u001b[0m \u001b[0mselector\u001b[0m\u001b[0;34m,\u001b[0m \u001b[0mserver_selection_timeout\u001b[0m\u001b[0;34m=\u001b[0m\u001b[0;32mNone\u001b[0m\u001b[0;34m,\u001b[0m \u001b[0maddress\u001b[0m\u001b[0;34m=\u001b[0m\u001b[0;32mNone\u001b[0m\u001b[0;34m)\u001b[0m\u001b[0;34m:\u001b[0m\u001b[0;34m\u001b[0m\u001b[0;34m\u001b[0m\u001b[0m\n\u001b[1;32m    246\u001b[0m         \u001b[0;34m\"\"\"Like select_servers, but choose a random server if several match.\"\"\"\u001b[0m\u001b[0;34m\u001b[0m\u001b[0;34m\u001b[0m\u001b[0m\n\u001b[0;32m--> 247\u001b[0;31m         \u001b[0mservers\u001b[0m \u001b[0;34m=\u001b[0m \u001b[0mself\u001b[0m\u001b[0;34m.\u001b[0m\u001b[0mselect_servers\u001b[0m\u001b[0;34m(\u001b[0m\u001b[0mselector\u001b[0m\u001b[0;34m,\u001b[0m \u001b[0mserver_selection_timeout\u001b[0m\u001b[0;34m,\u001b[0m \u001b[0maddress\u001b[0m\u001b[0;34m)\u001b[0m\u001b[0;34m\u001b[0m\u001b[0;34m\u001b[0m\u001b[0m\n\u001b[0m\u001b[1;32m    248\u001b[0m         \u001b[0;32mif\u001b[0m \u001b[0mlen\u001b[0m\u001b[0;34m(\u001b[0m\u001b[0mservers\u001b[0m\u001b[0;34m)\u001b[0m \u001b[0;34m==\u001b[0m \u001b[0;36m1\u001b[0m\u001b[0;34m:\u001b[0m\u001b[0;34m\u001b[0m\u001b[0;34m\u001b[0m\u001b[0m\n\u001b[1;32m    249\u001b[0m             \u001b[0;32mreturn\u001b[0m \u001b[0mservers\u001b[0m\u001b[0;34m[\u001b[0m\u001b[0;36m0\u001b[0m\u001b[0;34m]\u001b[0m\u001b[0;34m\u001b[0m\u001b[0;34m\u001b[0m\u001b[0m\n",
      "\u001b[0;32m~/opt/anaconda3/envs/dev/lib/python3.7/site-packages/pymongo/topology.py\u001b[0m in \u001b[0;36mselect_servers\u001b[0;34m(self, selector, server_selection_timeout, address)\u001b[0m\n\u001b[1;32m    206\u001b[0m \u001b[0;34m\u001b[0m\u001b[0m\n\u001b[1;32m    207\u001b[0m         \u001b[0;32mwith\u001b[0m \u001b[0mself\u001b[0m\u001b[0;34m.\u001b[0m\u001b[0m_lock\u001b[0m\u001b[0;34m:\u001b[0m\u001b[0;34m\u001b[0m\u001b[0;34m\u001b[0m\u001b[0m\n\u001b[0;32m--> 208\u001b[0;31m             \u001b[0mserver_descriptions\u001b[0m \u001b[0;34m=\u001b[0m \u001b[0mself\u001b[0m\u001b[0;34m.\u001b[0m\u001b[0m_select_servers_loop\u001b[0m\u001b[0;34m(\u001b[0m\u001b[0mselector\u001b[0m\u001b[0;34m,\u001b[0m \u001b[0mserver_timeout\u001b[0m\u001b[0;34m,\u001b[0m \u001b[0maddress\u001b[0m\u001b[0;34m)\u001b[0m\u001b[0;34m\u001b[0m\u001b[0;34m\u001b[0m\u001b[0m\n\u001b[0m\u001b[1;32m    209\u001b[0m \u001b[0;34m\u001b[0m\u001b[0m\n\u001b[1;32m    210\u001b[0m             \u001b[0;32mreturn\u001b[0m \u001b[0;34m[\u001b[0m\u001b[0mself\u001b[0m\u001b[0;34m.\u001b[0m\u001b[0mget_server_by_address\u001b[0m\u001b[0;34m(\u001b[0m\u001b[0msd\u001b[0m\u001b[0;34m.\u001b[0m\u001b[0maddress\u001b[0m\u001b[0;34m)\u001b[0m \u001b[0;32mfor\u001b[0m \u001b[0msd\u001b[0m \u001b[0;32min\u001b[0m \u001b[0mserver_descriptions\u001b[0m\u001b[0;34m]\u001b[0m\u001b[0;34m\u001b[0m\u001b[0;34m\u001b[0m\u001b[0m\n",
      "\u001b[0;32m~/opt/anaconda3/envs/dev/lib/python3.7/site-packages/pymongo/topology.py\u001b[0m in \u001b[0;36m_select_servers_loop\u001b[0;34m(self, selector, timeout, address)\u001b[0m\n\u001b[1;32m    223\u001b[0m                 raise ServerSelectionTimeoutError(\n\u001b[1;32m    224\u001b[0m                     \u001b[0;34m\"%s, Timeout: %ss, Topology Description: %r\"\u001b[0m\u001b[0;34m\u001b[0m\u001b[0;34m\u001b[0m\u001b[0m\n\u001b[0;32m--> 225\u001b[0;31m                     \u001b[0;34m%\u001b[0m \u001b[0;34m(\u001b[0m\u001b[0mself\u001b[0m\u001b[0;34m.\u001b[0m\u001b[0m_error_message\u001b[0m\u001b[0;34m(\u001b[0m\u001b[0mselector\u001b[0m\u001b[0;34m)\u001b[0m\u001b[0;34m,\u001b[0m \u001b[0mtimeout\u001b[0m\u001b[0;34m,\u001b[0m \u001b[0mself\u001b[0m\u001b[0;34m.\u001b[0m\u001b[0mdescription\u001b[0m\u001b[0;34m)\u001b[0m\u001b[0;34m\u001b[0m\u001b[0;34m\u001b[0m\u001b[0m\n\u001b[0m\u001b[1;32m    226\u001b[0m                 )\n\u001b[1;32m    227\u001b[0m \u001b[0;34m\u001b[0m\u001b[0m\n",
      "\u001b[0;31mServerSelectionTimeoutError\u001b[0m: cluster0-shard-00-01.efpum.mongodb.net:27017: timed out,cluster0-shard-00-02.efpum.mongodb.net:27017: timed out,cluster0-shard-00-00.efpum.mongodb.net:27017: timed out, Timeout: 30s, Topology Description: <TopologyDescription id: 6244cc3f96e4e0685a2652ec, topology_type: ReplicaSetNoPrimary, servers: [<ServerDescription ('cluster0-shard-00-00.efpum.mongodb.net', 27017) server_type: Unknown, rtt: None, error=NetworkTimeout('cluster0-shard-00-00.efpum.mongodb.net:27017: timed out')>, <ServerDescription ('cluster0-shard-00-01.efpum.mongodb.net', 27017) server_type: Unknown, rtt: None, error=NetworkTimeout('cluster0-shard-00-01.efpum.mongodb.net:27017: timed out')>, <ServerDescription ('cluster0-shard-00-02.efpum.mongodb.net', 27017) server_type: Unknown, rtt: None, error=NetworkTimeout('cluster0-shard-00-02.efpum.mongodb.net:27017: timed out')>]>"
     ]
    }
   ],
   "source": [
    "# Test Connection\n",
    "serverStatusResult=db.command(\"serverStatus\")\n",
    "print(serverStatusResult[\"version\"])"
   ]
  },
  {
   "cell_type": "code",
   "execution_count": null,
   "id": "2986f1b8-6a9e-4ecc-adaf-e4cc7c804365",
   "metadata": {},
   "outputs": [],
   "source": [
    "# Get the coinpairs from the Database\n",
    "db_coinpairs = db[\"coinpairs\"].find({\"exchange\" : \"binance\"})\n",
    "\n",
    "# convert the dictionary objects to dataframe\n",
    "binance_coinpairs_df = pd.DataFrame(db_coinpairs)\n",
    "\n",
    "# see the magic\n",
    "coinpair_list = list(binance_coinpairs_df['pair'])\n",
    "print(coinpair_list)"
   ]
  },
  {
   "cell_type": "code",
   "execution_count": null,
   "id": "fb78e2e2-1cba-4296-8405-2e06506f26b7",
   "metadata": {},
   "outputs": [],
   "source": [
    "# Get the timeframes from the Database\n",
    "db_binance_timeframes = db[\"binance_timeframes\"].find()\n",
    "\n",
    "# convert the dictionary objects to dataframe\n",
    "binance_timeframes_df = pd.DataFrame(db_binance_timeframes)\n",
    "\n",
    "# see the magic\n",
    "binance_timeframes_list = list(binance_timeframes_df['timeframe'])\n",
    "print(binance_timeframes_list)"
   ]
  },
  {
   "cell_type": "code",
   "execution_count": null,
   "id": "ff6141b9-40f5-4fe6-98f7-d78f2e5c9389",
   "metadata": {},
   "outputs": [],
   "source": [
    "# Get latest inserted kline date for each Coin Pair\n",
    "def get_pair_data(binance_timeframes_list, coinpair_list):\n",
    "    complete_pair_tf = []\n",
    "    from_timestamp = \"3 months ago UTC\"\n",
    "    for timeframe in binance_timeframes_list:\n",
    "        for pair in coinpair_list:\n",
    "            # Get the coinpairs from the Database\n",
    "            collection_name = pair+\"_\"+timeframe\n",
    "            latest = db[collection_name].find().sort('open_time', -1 ).limit(1)\n",
    "            # Exists, update collection by setting from_timestamp to lastest timestamp\n",
    "            if collection_name in db.list_collection_names():\n",
    "                complete_pair_tf.append([timeframe, pair, latest[0][\"open_time\"].strftime(\"%m/%d/%Y, %H:%M:%S\"),collection_name, \"is_update\"])\n",
    "            # Does not exists, import from csv\n",
    "            else:\n",
    "                complete_pair_tf.append([timeframe, pair, from_timestamp, collection_name, \"is_new\"])\n",
    "    return complete_pair_tf"
   ]
  },
  {
   "cell_type": "code",
   "execution_count": null,
   "id": "e06445f9-059d-4e6d-a94c-6423d8e18f9b",
   "metadata": {},
   "outputs": [],
   "source": [
    "# Function to get the kline data from Binance\n",
    "async def get_coinpair_kline(pair, timeframe, from_timestamp):\n",
    "    client = await AsyncClient.create(BINANCE_API_KEY, BINANCE_API_SECRET)\n",
    "    if timeframe == \"1m\":\n",
    "        klines = await client.get_historical_klines(pair, Client.KLINE_INTERVAL_1MINUTE, from_timestamp)\n",
    "    elif timeframe == \"5m\":\n",
    "        klines = await client.get_historical_klines(pair, Client.KLINE_INTERVAL_5MINUTE, from_timestamp)\n",
    "    elif timeframe == \"30m\":\n",
    "        klines = await client.get_historical_klines(pair, Client.KLINE_INTERVAL_30MINUTE, from_timestamp)\n",
    "    elif timeframe == \"1h\":\n",
    "        klines = await client.get_historical_klines(pair, Client.KLINE_INTERVAL_1HOUR, from_timestamp)\n",
    "    elif timeframe == \"1d\":\n",
    "        klines = await client.get_historical_klines(pair, Client.KLINE_INTERVAL_1DAY, from_timestamp)\n",
    "    else:\n",
    "        return\n",
    "    await client.close_connection()\n",
    "    return klines"
   ]
  },
  {
   "cell_type": "code",
   "execution_count": null,
   "id": "39a908ef-7ea2-47c4-ab67-a51ecf19592e",
   "metadata": {},
   "outputs": [],
   "source": [
    "async def get_binance_data(complete_pair_tf):\n",
    "    headers=[\"open_time\", \"open\", \"high\", \"low\",\"close\",\"volume\",\"close_time\",\"quote_asset_volume\",\"numer_trades\",\"taker_base_volume\",\"taker_quote_volume\",\"ignore\"]\n",
    "    for query_pair in complete_pair_tf:\n",
    "        collection_name = query_pair[1]+\"_\"+query_pair[0]\n",
    "        kline_list = await get_coinpair_kline(query_pair[1], query_pair[0], query_pair[2])\n",
    "        # If it is updating the db then delete the first item as it repeats\n",
    "        if query_pair[4] == \"is_update\":\n",
    "            kline_list.pop(0)\n",
    "            print(f\"Updating {len(kline_list)} items in {collection_name}..\")\n",
    "        else:\n",
    "            print(f\"Adding {len(kline_list)} items in {collection_name}..\")\n",
    "        if len(kline_list) > 0:\n",
    "            kline_df = pd.DataFrame(kline_list, columns=headers)\n",
    "            kline_df['open_time'] = kline_df['open_time'].values.astype(dtype='datetime64[ms]')\n",
    "            kline_df['close_time'] = kline_df['close_time'].values.astype(dtype='datetime64[ms]')\n",
    "            kline_df[[\"open\", \"high\", \"low\",\"close\",\"volume\",\"quote_asset_volume\",\"taker_base_volume\",\"taker_quote_volume\"]] = kline_df[[\"open\", \"high\", \"low\",\"close\",\"volume\",\"quote_asset_volume\",\"taker_base_volume\",\"taker_quote_volume\"]].astype(float)\n",
    "            kline_df = kline_df.drop(columns=['ignore'])\n",
    "            kline_dict = kline_df.to_dict(\"records\")\n",
    "            #print(kline_dict[0])\n",
    "            db[query_pair[3]].insert_many(kline_dict)\n",
    "        print(f\"Done :)\")\n"
   ]
  },
  {
   "cell_type": "code",
   "execution_count": null,
   "id": "b8631e83-41be-4461-bbba-468db86674eb",
   "metadata": {},
   "outputs": [],
   "source": [
    "# Get pair info to update DB\n",
    "complete_pair_tf = get_pair_data(binance_timeframes_list, coinpair_list)\n",
    "print(complete_pair_tf)"
   ]
  },
  {
   "cell_type": "code",
   "execution_count": null,
   "id": "0ebb8ee7-59a3-432e-b8ee-3f80da6a5c81",
   "metadata": {},
   "outputs": [],
   "source": [
    "# Update DB with the latest binance Data\n",
    "await get_binance_data(complete_pair_tf)"
   ]
  },
  {
   "cell_type": "code",
   "execution_count": null,
   "id": "31d0dcef-a363-4cd7-8be0-458d60025e43",
   "metadata": {},
   "outputs": [],
   "source": []
  },
  {
   "cell_type": "code",
   "execution_count": null,
   "id": "98f95cbf-dea4-4f98-9a33-6bd40aa60c0b",
   "metadata": {},
   "outputs": [],
   "source": []
  },
  {
   "cell_type": "code",
   "execution_count": null,
   "id": "3c14166d-22da-4695-8e1a-8355af069c98",
   "metadata": {},
   "outputs": [],
   "source": []
  }
 ],
 "metadata": {
  "kernelspec": {
   "display_name": "Python 3.7.11 64-bit ('dev': conda)",
   "language": "python",
   "name": "python3711jvsc74a57bd0031c6feeb2f4a45b81f49bc63f4349779b1ca77aa31178ffe6d389f35e50f837"
  },
  "language_info": {
   "codemirror_mode": {
    "name": "ipython",
    "version": 3
   },
   "file_extension": ".py",
   "mimetype": "text/x-python",
   "name": "python",
   "nbconvert_exporter": "python",
   "pygments_lexer": "ipython3",
   "version": "3.7.11"
  }
 },
 "nbformat": 4,
 "nbformat_minor": 5
}
