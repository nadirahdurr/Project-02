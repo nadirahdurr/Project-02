{
 "cells": [
  {
   "cell_type": "code",
   "execution_count": 1,
   "id": "7b06cec7-3141-4aa7-a5b7-35afc404e9b0",
   "metadata": {},
   "outputs": [],
   "source": [
    "import pandas as pd      \n",
    "import os\n",
    "import time\n",
    "from pymongo import MongoClient\n",
    "from dotenv import load_dotenv\n",
    "from datetime import datetime,timezone\n",
    "from pytrends.request import TrendReq\n",
    "pytrend = TrendReq()"
   ]
  },
  {
   "cell_type": "code",
   "execution_count": 2,
   "id": "86e04528-4e15-4c56-9714-a6201b7f57de",
   "metadata": {},
   "outputs": [],
   "source": [
    "#pytrend.build_payload(kw_list=['Taylor Swift'])\n",
    "# Interest by Region\n",
    "#df = pytrend.interest_by_region()\n",
    "#df.head(10)"
   ]
  },
  {
   "cell_type": "code",
   "execution_count": 3,
   "id": "46eb3b61-bfa4-48cd-962a-81485fbf93e0",
   "metadata": {},
   "outputs": [],
   "source": [
    "kw_list=['Cardano','ADA']\n",
    "#pytrend.build_payload(kw_list,timeframe='today 1-m')\n",
    "#df = pytrend.interest_over_time()\n",
    "#df"
   ]
  },
  {
   "cell_type": "code",
   "execution_count": 4,
   "id": "ac3f4b4f-ed5e-450b-88b0-369134236e8b",
   "metadata": {},
   "outputs": [],
   "source": [
    "#df = pytrend.get_historical_interest(kw_list, year_start=2021, month_start=3, day_start=7, hour_start=0, year_end=2022, month_end=4, day_end=7, hour_end=22, cat=0, geo='', gprop='', sleep=10)"
   ]
  },
  {
   "cell_type": "code",
   "execution_count": 5,
   "id": "fd827e51-df6f-4540-aa94-f689d6c415a4",
   "metadata": {},
   "outputs": [],
   "source": [
    "#df"
   ]
  },
  {
   "cell_type": "code",
   "execution_count": 6,
   "id": "e426ede3-c620-429e-bd12-4d99b560ac23",
   "metadata": {},
   "outputs": [
    {
     "data": {
      "text/html": [
       "<div>\n",
       "<style scoped>\n",
       "    .dataframe tbody tr th:only-of-type {\n",
       "        vertical-align: middle;\n",
       "    }\n",
       "\n",
       "    .dataframe tbody tr th {\n",
       "        vertical-align: top;\n",
       "    }\n",
       "\n",
       "    .dataframe thead th {\n",
       "        text-align: right;\n",
       "    }\n",
       "</style>\n",
       "<table border=\"1\" class=\"dataframe\">\n",
       "  <thead>\n",
       "    <tr style=\"text-align: right;\">\n",
       "      <th></th>\n",
       "      <th>title</th>\n",
       "      <th>entityNames</th>\n",
       "    </tr>\n",
       "  </thead>\n",
       "  <tbody>\n",
       "    <tr>\n",
       "      <th>0</th>\n",
       "      <td>Newcastle United F.C., Wolverhampton Wanderers...</td>\n",
       "      <td>[Newcastle United F.C., Wolverhampton Wanderer...</td>\n",
       "    </tr>\n",
       "    <tr>\n",
       "      <th>1</th>\n",
       "      <td>Borussia Dortmund, VfB Stuttgart, Bundesliga</td>\n",
       "      <td>[Borussia Dortmund, VfB Stuttgart, Bundesliga]</td>\n",
       "    </tr>\n",
       "    <tr>\n",
       "      <th>2</th>\n",
       "      <td>Éric Zemmour, France, History of the Jews in F...</td>\n",
       "      <td>[Éric Zemmour, France, History of the Jews in ...</td>\n",
       "    </tr>\n",
       "    <tr>\n",
       "      <th>3</th>\n",
       "      <td>International Space Station, SpaceX, NASA</td>\n",
       "      <td>[International Space Station, SpaceX, NASA]</td>\n",
       "    </tr>\n",
       "    <tr>\n",
       "      <th>4</th>\n",
       "      <td>Kyle Schwarber, Philadelphia Phillies</td>\n",
       "      <td>[Kyle Schwarber, Philadelphia Phillies]</td>\n",
       "    </tr>\n",
       "  </tbody>\n",
       "</table>\n",
       "</div>"
      ],
      "text/plain": [
       "                                               title  \\\n",
       "0  Newcastle United F.C., Wolverhampton Wanderers...   \n",
       "1       Borussia Dortmund, VfB Stuttgart, Bundesliga   \n",
       "2  Éric Zemmour, France, History of the Jews in F...   \n",
       "3          International Space Station, SpaceX, NASA   \n",
       "4              Kyle Schwarber, Philadelphia Phillies   \n",
       "\n",
       "                                         entityNames  \n",
       "0  [Newcastle United F.C., Wolverhampton Wanderer...  \n",
       "1     [Borussia Dortmund, VfB Stuttgart, Bundesliga]  \n",
       "2  [Éric Zemmour, France, History of the Jews in ...  \n",
       "3        [International Space Station, SpaceX, NASA]  \n",
       "4            [Kyle Schwarber, Philadelphia Phillies]  "
      ]
     },
     "execution_count": 6,
     "metadata": {},
     "output_type": "execute_result"
    }
   ],
   "source": [
    "df = pytrend.realtime_trending_searches(pn='US')\n",
    "df.head()"
   ]
  },
  {
   "cell_type": "code",
   "execution_count": 7,
   "id": "4e716879-4fbf-4c51-a93e-9ed669b10890",
   "metadata": {},
   "outputs": [
    {
     "name": "stdout",
     "output_type": "stream",
     "text": [
      "5.0.6\n"
     ]
    }
   ],
   "source": [
    "# Load Environment Variables\n",
    "load_dotenv()\n",
    "\n",
    "def connect_to_db():\n",
    "    # Gets MongoDB Connection String\n",
    "    MDB_CONNECTION_STRING = os.getenv('MDB_CONNECTION_STRING')\n",
    "\n",
    "    # Function to connect to the Mongo DB\n",
    "    def get_database():\n",
    "        try:\n",
    "            client = MongoClient(MDB_CONNECTION_STRING)\n",
    "            db = client[\"project-02\"]\n",
    "            return db\n",
    "        except Exception as e:\n",
    "            print(e)\n",
    "\n",
    "    # Connect to the db\n",
    "    db = get_database()\n",
    "\n",
    "    # Test Connection\n",
    "    serverStatusResult=db.command(\"serverStatus\")\n",
    "    print(serverStatusResult[\"version\"])\n",
    "    return db\n",
    "db = connect_to_db()"
   ]
  },
  {
   "cell_type": "code",
   "execution_count": 8,
   "id": "40255615-0b26-4d5a-b485-844c103a056a",
   "metadata": {},
   "outputs": [],
   "source": [
    "# Gets the coinpairs to process from the database\n",
    "def get_keywords(coinpair):\n",
    "    # Get the coinpairs from the Database\n",
    "    db_coinpairs = db[\"coinpairs\"].find({\"pair\": coinpair, \"exchange\" : \"binance\"})\n",
    "\n",
    "    # convert the dictionary objects to dataframe\n",
    "    binance_coinpairs_df = pd.DataFrame(db_coinpairs)\n",
    "\n",
    "    # see the magic\n",
    "    coinpair_list = list(binance_coinpairs_df['keywords'][0])\n",
    "    \n",
    "    return coinpair_list\n",
    "\n",
    "# Gets the main coin name to process from the database\n",
    "def get_main_coin(coinpair):\n",
    "    # Get the coin name from the Database\n",
    "    db_coinpairs = db[\"coinpairs\"].find({\"pair\": coinpair, \"exchange\" : \"binance\"})\n",
    "\n",
    "    # convert the dictionary objects to dataframe\n",
    "    binance_coinpairs_df = pd.DataFrame(db_coinpairs)\n",
    "\n",
    "    # see the magic\n",
    "    coinpair_list = binance_coinpairs_df['main'][0]\n",
    "    \n",
    "    return coinpair_list\n",
    "\n",
    "# Gets the coinpairs to process from the database\n",
    "def get_coinpairs():\n",
    "    # Get the coinpairs from the Database\n",
    "    db_coinpairs = db[\"coinpairs\"].find({\"exchange\" : \"binance\"})\n",
    "\n",
    "    # convert the dictionary objects to dataframe\n",
    "    binance_coinpairs_df = pd.DataFrame(db_coinpairs)\n",
    "\n",
    "    # see the magic\n",
    "    coinpair_list = list(binance_coinpairs_df['pair'])\n",
    "    return coinpair_list\n",
    "\n",
    "# Save trends to Database\n",
    "def update_trends_db(coin_name, trends_df):\n",
    "    # Resets the index\n",
    "    trends_df = trends_df.reset_index()\n",
    "    \n",
    "    # Update the coinpairs in the Database\n",
    "    db[\"trends_\"+coin_name].insert_many(trends_df.to_dict(\"records\"))\n",
    "    db[\"trends_\"+coin_name].create_index([ (\"date\", -1) ])\n",
    "    \n",
    "    # Returns the coin pair\n",
    "    return coinpair"
   ]
  },
  {
   "cell_type": "code",
   "execution_count": 9,
   "id": "2b3ec0cf-93fd-47e2-8d19-268bffd47f96",
   "metadata": {},
   "outputs": [],
   "source": [
    "# Processes the Google Trends and returns the dataframe with the most relevant column\n",
    "def process_trends(keywords, df, coinpair):\n",
    "    totals = []\n",
    "    # Sum the total values of the keys, given the last 30 days to choose the highest keyword to analyse\n",
    "    for key in keywords:\n",
    "        totals.append({\"key\": key, \"sum\": df[key].iloc[-720:].sum()})\n",
    "    totals_df = pd.DataFrame(totals)\n",
    "    sum_df = totals_df.sort_values(by=['sum'], ascending=False)\n",
    "    highest_keyword = sum_df.iloc[0][\"key\"]\n",
    "    new_df = df.copy()\n",
    "    new_df = new_df[new_df['isPartial'] != True]\n",
    "    \n",
    "    # Drop Columns that are not needed\n",
    "    new_df = new_df.drop(columns=['isPartial'])\n",
    "    return new_df"
   ]
  },
  {
   "cell_type": "code",
   "execution_count": 10,
   "id": "c71419c2-e2fb-4b77-82e4-b1db50baad34",
   "metadata": {},
   "outputs": [],
   "source": [
    "def populate_google_trends(coinpair, keywords, coin_name, months_back=24):\n",
    "    i = months_back\n",
    "    now_utc = datetime.now(timezone.utc)\n",
    "    while i > 0:\n",
    "        date_start = now_utc - pd.offsets.DateOffset(months=i)\n",
    "        date_end = now_utc - pd.offsets.DateOffset(months=i-1)\n",
    "        print(f\"{date_start} - {date_end}\")\n",
    "        try:\n",
    "            df = pytrend.get_historical_interest(keywords, year_start=date_start.year, month_start=date_start.month, day_start=date_start.day, hour_start=date_start.hour, year_end=date_end.year, month_end=date_end.month, day_end=date_end.month, hour_end=date_end.hour, cat=0, geo='', gprop='', sleep=0)\n",
    "            trends_df = process_trends(keywords, df, coinpair)\n",
    "            update_trends_db(coin_name, trends_df)\n",
    "            i -=1\n",
    "        except:\n",
    "            print(f\"Error with Google Trends, retrying in 3 seconds..\")\n",
    "            time.sleep(3)"
   ]
  },
  {
   "cell_type": "code",
   "execution_count": 11,
   "id": "edbc694a-fcc5-4254-a337-81a833dc08c4",
   "metadata": {},
   "outputs": [],
   "source": [
    "# Function to initialize the databse with the coinpairs registered\n",
    "def init_google_trends(db, coinpairs):\n",
    "    for coinpair in coinpairs:\n",
    "        coin_name = get_main_coin(coinpair)\n",
    "        collection_name=\"trends_\"+coin_name\n",
    "        if collection_name not in db.list_collection_names():  \n",
    "            print(f\"Pulling trends for {coin_name}\")\n",
    "            keywords = get_keywords(coinpair)\n",
    "            populate_google_trends(coinpair, keywords, coin_name)\n",
    "        else:\n",
    "            print(f\"Collection {collection_name} found, skipping..\")\n",
    "            \n",
    "    print(f\"Done pulling trends.\")"
   ]
  },
  {
   "cell_type": "code",
   "execution_count": 12,
   "id": "a2a4e0cb-bfd0-4ff4-8f1b-56dc032f406c",
   "metadata": {},
   "outputs": [
    {
     "name": "stdout",
     "output_type": "stream",
     "text": [
      "Collection trends_ADA found, skipping..\n",
      "Collection trends_SOL found, skipping..\n",
      "Collection trends_BTC found, skipping..\n",
      "Collection trends_ETH found, skipping..\n",
      "Collection trends_LUNA found, skipping..\n",
      "Collection trends_DOGE found, skipping..\n",
      "Collection trends_MATIC found, skipping..\n",
      "Collection trends_MANA found, skipping..\n",
      "Done pulling trends.\n"
     ]
    }
   ],
   "source": [
    "coinpairs = get_coinpairs()\n",
    "init_google_trends(db, coinpairs)"
   ]
  },
  {
   "cell_type": "code",
   "execution_count": null,
   "id": "0f9ba340-d739-445c-be7c-5c3a8acb5a38",
   "metadata": {},
   "outputs": [],
   "source": []
  }
 ],
 "metadata": {
  "kernelspec": {
   "display_name": "Python 3 (ipykernel)",
   "language": "python",
   "name": "python3"
  },
  "language_info": {
   "codemirror_mode": {
    "name": "ipython",
    "version": 3
   },
   "file_extension": ".py",
   "mimetype": "text/x-python",
   "name": "python",
   "nbconvert_exporter": "python",
   "pygments_lexer": "ipython3",
   "version": "3.7.13"
  }
 },
 "nbformat": 4,
 "nbformat_minor": 5
}
